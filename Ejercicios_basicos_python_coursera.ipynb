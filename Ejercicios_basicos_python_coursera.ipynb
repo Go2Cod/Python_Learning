{
  "nbformat": 4,
  "nbformat_minor": 0,
  "metadata": {
    "colab": {
      "provenance": [],
      "toc_visible": true,
      "collapsed_sections": [
        "nwMi4GbIjDWK",
        "o3Y3-DdelJ2B",
        "AFHSH-KOoq4Y"
      ],
      "authorship_tag": "ABX9TyMdBIVf/PhpOZr8dJz0zadQ",
      "include_colab_link": true
    },
    "kernelspec": {
      "name": "python3",
      "display_name": "Python 3"
    },
    "language_info": {
      "name": "python"
    }
  },
  "cells": [
    {
      "cell_type": "markdown",
      "metadata": {
        "id": "view-in-github",
        "colab_type": "text"
      },
      "source": [
        "<a href=\"https://colab.research.google.com/github/Go2Cod/Python_Learning/blob/main/Ejercicios_basicos_python_coursera.ipynb\" target=\"_parent\"><img src=\"https://colab.research.google.com/assets/colab-badge.svg\" alt=\"Open In Colab\"/></a>"
      ]
    },
    {
      "cell_type": "markdown",
      "source": [
        "**Comprobar la version de python**\n"
      ],
      "metadata": {
        "id": "JsaasWlphU_x"
      }
    },
    {
      "cell_type": "code",
      "execution_count": null,
      "metadata": {
        "colab": {
          "base_uri": "https://localhost:8080/"
        },
        "id": "e8iXsmRqhHEx",
        "outputId": "413ed9a9-d717-46d8-82c4-b4c120837a43"
      },
      "outputs": [
        {
          "output_type": "stream",
          "name": "stdout",
          "text": [
            "3.10.11 (main, Apr  5 2023, 14:15:10) [GCC 9.4.0]\n"
          ]
        }
      ],
      "source": [
        "import sys\n",
        "print(sys.version)"
      ]
    },
    {
      "cell_type": "markdown",
      "source": [
        "**Escribir un comentario en python** \n",
        "\n",
        "Se usa #"
      ],
      "metadata": {
        "id": "8RVfbBjHhmQJ"
      }
    },
    {
      "cell_type": "code",
      "source": [
        "# practica escribiendo comentarios en python\n",
        "print(\"hola Python\")\n",
        "# print('hi') # esta si esta comentado no se imprimira"
      ],
      "metadata": {
        "colab": {
          "base_uri": "https://localhost:8080/"
        },
        "id": "wZNF6utlh19S",
        "outputId": "38656a00-e7e3-43a1-b480-858257eaff1a"
      },
      "execution_count": null,
      "outputs": [
        {
          "output_type": "stream",
          "name": "stdout",
          "text": [
            "hola Python\n"
          ]
        }
      ]
    },
    {
      "cell_type": "markdown",
      "source": [
        "**Does Python know about your error before it runs your code?**\n",
        "\n",
        "Python is what is called an interpreted language. Compiled languages examine your entire program at compile time, and are able to warn you about a whole class of errors prior to execution. In contrast, Python interprets your script line by line as it executes it. Python will stop executing the entire program when it encounters an error (unless the error is expected and handled by the programmer, a more advanced subject that we'll cover later on in this course).\n",
        "\n",
        "Try to run the code in the cell below and see what happens:\n"
      ],
      "metadata": {
        "id": "9bgN2oOQiMtj"
      }
    },
    {
      "cell_type": "code",
      "source": [
        "# Print string and error to see the running order\n",
        "\n",
        "print(\"This will be printed\")\n",
        "frint(\"This will cause an error\")\n",
        "print(\"This will NOT be printed\")"
      ],
      "metadata": {
        "colab": {
          "base_uri": "https://localhost:8080/",
          "height": 237
        },
        "id": "GBxGDvR0iwJR",
        "outputId": "cc463ff9-40f3-4984-88c5-cf22c889d84a"
      },
      "execution_count": null,
      "outputs": [
        {
          "output_type": "stream",
          "name": "stdout",
          "text": [
            "This will be printed\n"
          ]
        },
        {
          "output_type": "error",
          "ename": "NameError",
          "evalue": "ignored",
          "traceback": [
            "\u001b[0;31m---------------------------------------------------------------------------\u001b[0m",
            "\u001b[0;31mNameError\u001b[0m                                 Traceback (most recent call last)",
            "\u001b[0;32m<ipython-input-3-af59af1b345d>\u001b[0m in \u001b[0;36m<cell line: 4>\u001b[0;34m()\u001b[0m\n\u001b[1;32m      2\u001b[0m \u001b[0;34m\u001b[0m\u001b[0m\n\u001b[1;32m      3\u001b[0m \u001b[0mprint\u001b[0m\u001b[0;34m(\u001b[0m\u001b[0;34m\"This will be printed\"\u001b[0m\u001b[0;34m)\u001b[0m\u001b[0;34m\u001b[0m\u001b[0;34m\u001b[0m\u001b[0m\n\u001b[0;32m----> 4\u001b[0;31m \u001b[0mfrint\u001b[0m\u001b[0;34m(\u001b[0m\u001b[0;34m\"This will cause an error\"\u001b[0m\u001b[0;34m)\u001b[0m\u001b[0;34m\u001b[0m\u001b[0;34m\u001b[0m\u001b[0m\n\u001b[0m\u001b[1;32m      5\u001b[0m \u001b[0mprint\u001b[0m\u001b[0;34m(\u001b[0m\u001b[0;34m\"This will NOT be printed\"\u001b[0m\u001b[0;34m)\u001b[0m\u001b[0;34m\u001b[0m\u001b[0;34m\u001b[0m\u001b[0m\n",
            "\u001b[0;31mNameError\u001b[0m: name 'frint' is not defined"
          ]
        }
      ]
    },
    {
      "cell_type": "markdown",
      "source": [
        "# **Types of objects in Python**\n",
        "\n",
        "Let's start with the most common object types: strings, integers and floats. Anytime you write words (text) in Python, you're using character strings (strings for short). The most common numbers, on the other hand, are integers (e.g. -1, 0, 100) and floats, which represent real numbers (e.g. 3.14, -42.0)."
      ],
      "metadata": {
        "id": "nwMi4GbIjDWK"
      }
    },
    {
      "cell_type": "code",
      "source": [
        "# usamos type para saber el tipo de dato que es\n",
        "type (12)\n"
      ],
      "metadata": {
        "colab": {
          "base_uri": "https://localhost:8080/"
        },
        "id": "z1mbVfWdjabF",
        "outputId": "509e5bc2-bcbb-4067-fbbb-e235476da20f"
      },
      "execution_count": null,
      "outputs": [
        {
          "output_type": "execute_result",
          "data": {
            "text/plain": [
              "int"
            ]
          },
          "metadata": {},
          "execution_count": 6
        }
      ]
    },
    {
      "cell_type": "code",
      "source": [
        "type (2.14)"
      ],
      "metadata": {
        "id": "l914sh4LjoOV"
      },
      "execution_count": null,
      "outputs": []
    },
    {
      "cell_type": "code",
      "source": [
        "type(\"Hello world\")"
      ],
      "metadata": {
        "id": "A_UqtlC6jrYu"
      },
      "execution_count": null,
      "outputs": []
    },
    {
      "cell_type": "code",
      "source": [
        "my_variable=\"hola picha\"\n",
        "type(my_variable)"
      ],
      "metadata": {
        "colab": {
          "base_uri": "https://localhost:8080/"
        },
        "id": "TLWzGC7Lj0bz",
        "outputId": "c16ac6ff-1ab4-47e0-f19e-4b30c64dfc87"
      },
      "execution_count": null,
      "outputs": [
        {
          "output_type": "execute_result",
          "data": {
            "text/plain": [
              "str"
            ]
          },
          "metadata": {},
          "execution_count": 7
        }
      ]
    },
    {
      "cell_type": "markdown",
      "source": [
        "**Converting from one object type to a different object type**\n",
        "\n",
        "You can change the type of the object in Python; this is called typecasting."
      ],
      "metadata": {
        "id": "NTdHLu8kkEwP"
      }
    },
    {
      "cell_type": "code",
      "source": [
        "# Convert 2 to a float\n",
        "\n",
        "float(2)"
      ],
      "metadata": {
        "colab": {
          "base_uri": "https://localhost:8080/"
        },
        "id": "fIVWl3afkQrO",
        "outputId": "1ea3f80e-8bf7-4196-f1db-74872ab953e9"
      },
      "execution_count": null,
      "outputs": [
        {
          "output_type": "execute_result",
          "data": {
            "text/plain": [
              "2.0"
            ]
          },
          "metadata": {},
          "execution_count": 8
        }
      ]
    },
    {
      "cell_type": "code",
      "source": [
        "# Convert integer 2 to a float and check its type\n",
        "\n",
        "type(float(2))"
      ],
      "metadata": {
        "id": "19NWUNMYkXr_"
      },
      "execution_count": null,
      "outputs": []
    },
    {
      "cell_type": "code",
      "source": [
        "# Convert a string into an integer\n",
        "\n",
        "int('1')"
      ],
      "metadata": {
        "id": "uKM38nJeka9O"
      },
      "execution_count": null,
      "outputs": []
    },
    {
      "cell_type": "code",
      "source": [
        "# Convert an integer to a string\n",
        "\n",
        "str(1)\n"
      ],
      "metadata": {
        "id": "cxFqq13ukieR"
      },
      "execution_count": null,
      "outputs": []
    },
    {
      "cell_type": "markdown",
      "source": [
        "**Boolean data type**"
      ],
      "metadata": {
        "id": "z-_8HAXBkpe4"
      }
    },
    {
      "cell_type": "code",
      "source": [
        "# Value true\n",
        "\n",
        "True"
      ],
      "metadata": {
        "id": "Z-po0WNhkzGJ"
      },
      "execution_count": null,
      "outputs": []
    },
    {
      "cell_type": "code",
      "source": [
        "# Value false\n",
        "\n",
        "False"
      ],
      "metadata": {
        "id": "Im5kOJP5k02q"
      },
      "execution_count": null,
      "outputs": []
    },
    {
      "cell_type": "code",
      "source": [
        "# Type of True\n",
        "\n",
        "type(True)"
      ],
      "metadata": {
        "colab": {
          "base_uri": "https://localhost:8080/"
        },
        "id": "_rGiZ7Z2k3Bh",
        "outputId": "53a4c2dc-8105-4fa3-862c-0486a7c04b9f"
      },
      "execution_count": null,
      "outputs": [
        {
          "output_type": "execute_result",
          "data": {
            "text/plain": [
              "bool"
            ]
          },
          "metadata": {},
          "execution_count": 9
        }
      ]
    },
    {
      "cell_type": "code",
      "source": [
        "# Convert True to int\n",
        "\n",
        "int(True)"
      ],
      "metadata": {
        "colab": {
          "base_uri": "https://localhost:8080/"
        },
        "id": "3thb_hQDk6Al",
        "outputId": "70cb9734-4596-442c-8ff8-d4bd0d6350ef"
      },
      "execution_count": null,
      "outputs": [
        {
          "output_type": "execute_result",
          "data": {
            "text/plain": [
              "1"
            ]
          },
          "metadata": {},
          "execution_count": 10
        }
      ]
    },
    {
      "cell_type": "code",
      "source": [
        "# Convert 0 to boolean\n",
        "\n",
        "bool(0)"
      ],
      "metadata": {
        "id": "YIHctJdxk86f"
      },
      "execution_count": null,
      "outputs": []
    },
    {
      "cell_type": "markdown",
      "source": [
        "# **Expression and Variables**"
      ],
      "metadata": {
        "id": "o3Y3-DdelJ2B"
      }
    },
    {
      "cell_type": "markdown",
      "source": [
        "Expressions in Python can include operations among compatible types (e.g., integers and floats). For example, basic arithmetic operations like adding multiple numbers:"
      ],
      "metadata": {
        "id": "ZBYWsrH9lR6g"
      }
    },
    {
      "cell_type": "code",
      "source": [
        "# Addition operation expression\n",
        "\n",
        "43 + 60 + 16 + 41\n",
        "\n",
        "# Subtraction operation expression\n",
        "\n",
        "50 - 60\n",
        "\n",
        "# Multiplication operation expression\n",
        "\n",
        "5 * 5\n",
        "\n",
        "# Division operation expression\n",
        "\n",
        "25 / 5\n",
        "\n",
        "# Integer division operation expression\n",
        "\n",
        "25 // 5\n",
        "\n",
        "# Integer division operation expression\n",
        "\n",
        "25 // 6"
      ],
      "metadata": {
        "id": "R_ju2O3SlWvI"
      },
      "execution_count": null,
      "outputs": []
    },
    {
      "cell_type": "markdown",
      "source": [
        "**Variables**\n",
        "\n",
        "Just like with most programming languages, we can store values in <i>variables</i>, so we can use them later on. For example:"
      ],
      "metadata": {
        "id": "ptAK9t6rlutO"
      }
    },
    {
      "cell_type": "code",
      "source": [
        "# Store value into variable\n",
        "\n",
        "x = 43 + 60 + 16 + 41"
      ],
      "metadata": {
        "id": "g2_HU5Zil3ne"
      },
      "execution_count": null,
      "outputs": []
    },
    {
      "cell_type": "markdown",
      "source": [
        "# **String Operations**"
      ],
      "metadata": {
        "id": "AFHSH-KOoq4Y"
      }
    },
    {
      "cell_type": "code",
      "source": [
        "# Use quotation marks for defining string\n",
        "\n",
        "\"Michael Jackson\"\n",
        "\n",
        "# Use single quotation marks for defining string\n",
        "\n",
        "'Michael Jackson'\n",
        "\n",
        "# Digitals and spaces in string\n",
        "\n",
        "'1 2 3 4 5 6 '"
      ],
      "metadata": {
        "id": "BEsh14QHox6F"
      },
      "execution_count": null,
      "outputs": []
    },
    {
      "cell_type": "code",
      "source": [
        "# Print the string\n",
        "\n",
        "print(\"hello!\")"
      ],
      "metadata": {
        "id": "1B6UoXM8o9PD"
      },
      "execution_count": null,
      "outputs": []
    },
    {
      "cell_type": "code",
      "source": [
        "# Assign string to variable\n",
        "\n",
        "name = \"Michael Jackson\"\n",
        "name"
      ],
      "metadata": {
        "id": "PvjK-x5Po-c8"
      },
      "execution_count": null,
      "outputs": []
    },
    {
      "cell_type": "markdown",
      "source": [
        "**Indexing**\n",
        "\n",
        "It is helpful to think of a string as an ordered sequence. Each element in the sequence can be accessed using an index represented by the array of numbers:\n",
        "\n",
        "*Name = \" Michael Jackson\"* "
      ],
      "metadata": {
        "id": "g9Uf6u81pPnT"
      }
    },
    {
      "cell_type": "code",
      "source": [
        "name = \"Michael Jackson\"\n",
        "print(name[0])\n",
        "\n",
        "print(name[6])"
      ],
      "metadata": {
        "colab": {
          "base_uri": "https://localhost:8080/"
        },
        "id": "Ly3a1Etxpih5",
        "outputId": "cecd3ba8-a661-41f2-8474-aa9d81dc41d8"
      },
      "execution_count": null,
      "outputs": [
        {
          "output_type": "stream",
          "name": "stdout",
          "text": [
            "M\n",
            "l\n"
          ]
        }
      ]
    },
    {
      "cell_type": "markdown",
      "source": [
        "**Negative Indexing**\n",
        "\n",
        "egative index can help us to count the element from the end of the string.\n",
        "\n",
        "The last element is given by the index -1:\n"
      ],
      "metadata": {
        "id": "4bEibY8LpzRq"
      }
    },
    {
      "cell_type": "code",
      "source": [
        "name = \"Michael Jackson\"\n",
        "\n",
        "# Print the last element in the string\n",
        "print(name[-1])\n",
        "\n",
        "# Print the first element in the string\n",
        "print(name[-15])"
      ],
      "metadata": {
        "colab": {
          "base_uri": "https://localhost:8080/"
        },
        "id": "f_b9ozQXp-OX",
        "outputId": "fcb9dffd-76b1-42cd-f4cc-5d413e0647bf"
      },
      "execution_count": null,
      "outputs": [
        {
          "output_type": "stream",
          "name": "stdout",
          "text": [
            "n\n",
            "M\n"
          ]
        }
      ]
    },
    {
      "cell_type": "markdown",
      "source": [
        "**Slicing**\n",
        "\n",
        "\n",
        "We can obtain multiple characters from a string using slicing, we can obtain the 0 to 4th and 8th to the 12th element:"
      ],
      "metadata": {
        "id": "4NXq7nApqNX2"
      }
    },
    {
      "cell_type": "code",
      "source": [
        "name = \"Michael Jackson\"\n",
        "\n",
        "# Take the slice on variable name with only index 0 to index 3\n",
        "\n",
        "name[0:4]\n",
        "\n",
        "# Take the slice on variable name with only index 8 to index 11\n",
        "\n",
        "name[8:12]"
      ],
      "metadata": {
        "colab": {
          "base_uri": "https://localhost:8080/",
          "height": 35
        },
        "id": "_n0vX3_LqVrJ",
        "outputId": "8bd7a05e-66c7-4594-ae2f-54e7bad7cc66"
      },
      "execution_count": 1,
      "outputs": [
        {
          "output_type": "execute_result",
          "data": {
            "text/plain": [
              "'Jack'"
            ],
            "application/vnd.google.colaboratory.intrinsic+json": {
              "type": "string"
            }
          },
          "metadata": {},
          "execution_count": 1
        }
      ]
    },
    {
      "cell_type": "markdown",
      "source": [
        "**Stride**\n",
        "\n",
        "We can also input a stride value as follows, with the '2' indicating that we are selecting every second variable:"
      ],
      "metadata": {
        "id": "KPcODzsYqpWp"
      }
    },
    {
      "cell_type": "code",
      "source": [
        "name = \"Michael Jackson\"\n",
        "\n",
        "# Get every second element. The elments on index 1, 3, 5 ...\n",
        "\n",
        "name[::2]\n",
        "\n",
        "# Get every second element in the range from index 0 to index 4\n",
        "\n",
        "name[0:5:2]"
      ],
      "metadata": {
        "id": "Y8fnkrTkqvK3",
        "colab": {
          "base_uri": "https://localhost:8080/",
          "height": 35
        },
        "outputId": "5bed05bf-3bd1-4c13-e444-f8744906886e"
      },
      "execution_count": 2,
      "outputs": [
        {
          "output_type": "execute_result",
          "data": {
            "text/plain": [
              "'McalJcsn'"
            ],
            "application/vnd.google.colaboratory.intrinsic+json": {
              "type": "string"
            }
          },
          "metadata": {},
          "execution_count": 2
        }
      ]
    },
    {
      "cell_type": "markdown",
      "source": [
        "**Concatenate Strings**"
      ],
      "metadata": {
        "id": "WgtOLrtNq3ly"
      }
    },
    {
      "cell_type": "code",
      "source": [
        "name = \"Michael Jackson\"\n",
        "statement = name + \"is the best\"\n",
        "statement"
      ],
      "metadata": {
        "colab": {
          "base_uri": "https://localhost:8080/",
          "height": 35
        },
        "id": "sXFXY7Lrq7pI",
        "outputId": "707c6582-5178-4624-d1eb-3bd716338c98"
      },
      "execution_count": null,
      "outputs": [
        {
          "output_type": "execute_result",
          "data": {
            "text/plain": [
              "'Michael Jacksonis the best'"
            ],
            "application/vnd.google.colaboratory.intrinsic+json": {
              "type": "string"
            }
          },
          "metadata": {},
          "execution_count": 18
        }
      ]
    },
    {
      "cell_type": "code",
      "source": [
        "# Print the string for 3 times\n",
        "\n",
        "3 * \"Michael Jackson\""
      ],
      "metadata": {
        "id": "NCbF2YsErGxT"
      },
      "execution_count": null,
      "outputs": []
    },
    {
      "cell_type": "code",
      "source": [
        "# Concatenate strings\n",
        "\n",
        "name = \"Michael Jackson\"\n",
        "name = name + \" is the best\"\n",
        "name"
      ],
      "metadata": {
        "id": "itl46QWjrJ09"
      },
      "execution_count": null,
      "outputs": []
    },
    {
      "cell_type": "markdown",
      "source": [
        "**Escape Sequences**"
      ],
      "metadata": {
        "id": "2vJXn8z4rMKr"
      }
    },
    {
      "cell_type": "code",
      "source": [
        "# New line escape sequence\n",
        "\n",
        "print(\" Michael Jackson \\n is the best\" )"
      ],
      "metadata": {
        "colab": {
          "base_uri": "https://localhost:8080/"
        },
        "id": "Pr80nlZorOdl",
        "outputId": "02452b4e-3d44-434d-ed35-428b25c2b616"
      },
      "execution_count": null,
      "outputs": [
        {
          "output_type": "stream",
          "name": "stdout",
          "text": [
            " Michael Jackson \n",
            " is the best\n"
          ]
        }
      ]
    },
    {
      "cell_type": "code",
      "source": [
        "# Tab escape sequence\n",
        "\n",
        "print(\" Michael Jackson \\t is the best\" )"
      ],
      "metadata": {
        "id": "TI1FNhv7rR1R"
      },
      "execution_count": null,
      "outputs": []
    },
    {
      "cell_type": "code",
      "source": [
        "# r will tell python that string will be display as raw string\n",
        "\n",
        "print(r\" Michael Jackson \\ is the best\" )"
      ],
      "metadata": {
        "colab": {
          "base_uri": "https://localhost:8080/"
        },
        "id": "H-HAFnT2rT5i",
        "outputId": "16e04a4f-f890-46ad-fefe-3f9d9ae2c3b9"
      },
      "execution_count": null,
      "outputs": [
        {
          "output_type": "stream",
          "name": "stdout",
          "text": [
            " Michael Jackson \\ is the best\n"
          ]
        }
      ]
    },
    {
      "cell_type": "markdown",
      "source": [
        "**String Operation**"
      ],
      "metadata": {
        "id": "Rf_3u7VqrXez"
      }
    },
    {
      "cell_type": "code",
      "source": [
        "# Convert all the characters in string to upper case\n",
        "\n",
        "a = \"Thriller is the sixth studio album\"\n",
        "print(\"before upper:\", a)\n",
        "b = a.upper()\n",
        "print(\"After upper:\", b)"
      ],
      "metadata": {
        "colab": {
          "base_uri": "https://localhost:8080/"
        },
        "id": "LKRtgSHXrcun",
        "outputId": "13f28788-8aa0-47b9-cdea-d90bf7711ff9"
      },
      "execution_count": null,
      "outputs": [
        {
          "output_type": "stream",
          "name": "stdout",
          "text": [
            "before upper: Thriller is the sixth studio album\n",
            "After upper: THRILLER IS THE SIXTH STUDIO ALBUM\n"
          ]
        }
      ]
    },
    {
      "cell_type": "code",
      "source": [
        "# Convert all the characters in string to lower case\n",
        "a = \"MICHAEL JACKSON IS THE BEST\"\n",
        "print(\"Before lower:\", a)\n",
        "b = a.lower()\n",
        "print(\"After lower:\", b)"
      ],
      "metadata": {
        "id": "vd1gVUEcrlTD"
      },
      "execution_count": null,
      "outputs": []
    },
    {
      "cell_type": "code",
      "source": [
        "a = \"Michael Jackson is the best\"\n",
        "b = a.replace('Michael', 'Janet')\n",
        "b"
      ],
      "metadata": {
        "id": "qLd-96vkrmDP"
      },
      "execution_count": null,
      "outputs": []
    },
    {
      "cell_type": "markdown",
      "source": [
        " **Replace the old substring with the new target substring**"
      ],
      "metadata": {
        "id": "RIEA5ceBwOdr"
      }
    },
    {
      "cell_type": "code",
      "source": [
        "# Replace the old substring with the new target substring by removing some punctuations.\n",
        "\n",
        "a = \"Hello! Michael Jackson has: 12 characters.\"\n",
        "print(a)\n",
        "b = a.replace('!','').replace(':','').replace('.','')\n",
        "print(b)"
      ],
      "metadata": {
        "colab": {
          "base_uri": "https://localhost:8080/"
        },
        "id": "Xit1M5_xrqYv",
        "outputId": "9c4b4c38-2868-4e5e-a749-4bdecf2b9246"
      },
      "execution_count": null,
      "outputs": [
        {
          "output_type": "stream",
          "name": "stdout",
          "text": [
            "Hello! Michael Jackson has: 12 characters.\n",
            "Hello Michael Jackson has 12 characters\n"
          ]
        }
      ]
    },
    {
      "cell_type": "code",
      "source": [
        "text=\"El tiempo en 'Algodonales' es hoy lluvioso\"\n",
        "print(text)\n",
        "my_pueblo = \"Los Barrios\"\n",
        "texto_2=text.replace(\"Algodonales\",my_pueblo)\n",
        "print(texto_2)"
      ],
      "metadata": {
        "colab": {
          "base_uri": "https://localhost:8080/"
        },
        "id": "ojNDy-ZL1QOi",
        "outputId": "acbed2ae-e312-44aa-dd70-5bfdee185b92"
      },
      "execution_count": null,
      "outputs": [
        {
          "output_type": "stream",
          "name": "stdout",
          "text": [
            "El tiempo en 'Algodonales' es hoy lluvioso\n",
            "El tiempo en 'Los Barrios' es hoy lluvioso\n"
          ]
        }
      ]
    },
    {
      "cell_type": "markdown",
      "source": [
        "**Find the substring in the string**\n"
      ],
      "metadata": {
        "id": "Kmo-LRRsv08L"
      }
    },
    {
      "cell_type": "code",
      "source": [
        "# Find the substring in the string. Only the index of the first elment of substring in string will be the output\n",
        "\n",
        "name = \"Michael Jackson\"\n",
        "name.find('el')"
      ],
      "metadata": {
        "id": "asM1r7-_r1bK",
        "colab": {
          "base_uri": "https://localhost:8080/"
        },
        "outputId": "0b996db3-f270-4db6-e155-c82d26d22e62"
      },
      "execution_count": 3,
      "outputs": [
        {
          "output_type": "execute_result",
          "data": {
            "text/plain": [
              "5"
            ]
          },
          "metadata": {},
          "execution_count": 3
        }
      ]
    },
    {
      "cell_type": "code",
      "source": [
        "# If cannot find the substring in the string\n",
        "\n",
        "name.find('Jasdfasdasdf')"
      ],
      "metadata": {
        "id": "nVKXT2rXr3fo"
      },
      "execution_count": null,
      "outputs": []
    },
    {
      "cell_type": "markdown",
      "source": [
        "Ejemplo ejercicio mio mezclando cosas"
      ],
      "metadata": {
        "id": "aypEz7JE24w9"
      }
    },
    {
      "cell_type": "code",
      "source": [
        "frase= \" tu todo lo que dices es una mierda y oscuridades\"\n",
        "frase.find('mierda') # Esta linea nos dice que mierda enpieza en la posicion 29\n",
        "frase[frase.find('mierda'):frase.find('mierda')+6] # Usando Slice podemos coger los caracteres\n",
        "                                                  #De la posicion 29 a mas 6, es la palabra en si mierda\n"
      ],
      "metadata": {
        "colab": {
          "base_uri": "https://localhost:8080/",
          "height": 35
        },
        "id": "3zqFesis2Sx8",
        "outputId": "a833e1b6-8561-49a1-9fae-1a31be5c0808"
      },
      "execution_count": null,
      "outputs": [
        {
          "output_type": "execute_result",
          "data": {
            "text/plain": [
              "'mierda'"
            ],
            "application/vnd.google.colaboratory.intrinsic+json": {
              "type": "string"
            }
          },
          "metadata": {},
          "execution_count": 40
        }
      ]
    },
    {
      "cell_type": "markdown",
      "source": [
        "**RegEx**\n",
        "\n",
        "in Python, RegEx (short for Regular Expression) is a **tool for matching and handling strings**\n",
        "\n",
        "Python provides a built-in module called re, which allows you to work with regular expressions. First, import the **re module**"
      ],
      "metadata": {
        "id": "GpgCozN7r6lw"
      }
    },
    {
      "cell_type": "code",
      "source": [
        "import re\n",
        "\n",
        "s1 = \"Michael Jackson is the best\"\n",
        "\n",
        "# Define the pattern to search for\n",
        "pattern = r\"Jackson\"\n",
        "\n",
        "# Use the search() function to search for the pattern in the string\n",
        "result = re.search(pattern, s1)\n",
        "\n",
        "# Check if a match was found\n",
        "if result:\n",
        "    print(\"Match found!\")\n",
        "else:\n",
        "    print(\"Match not found.\")"
      ],
      "metadata": {
        "colab": {
          "base_uri": "https://localhost:8080/"
        },
        "id": "LHDfUiM1sFYA",
        "outputId": "b3d5bd38-4605-431c-e059-601414c5bef7"
      },
      "execution_count": null,
      "outputs": [
        {
          "output_type": "stream",
          "name": "stdout",
          "text": [
            "Match found!\n"
          ]
        }
      ]
    },
    {
      "cell_type": "markdown",
      "source": [
        "Regular expressions (RegEx) are patterns used to match and manipulate strings of text. There are several special sequences in RegEx that can be used to match specific characters or patterns."
      ],
      "metadata": {
        "id": "wSqL9l6FsgKV"
      }
    },
    {
      "cell_type": "markdown",
      "source": [
        "\\d \t  Matches any digit character (0-9) \t\"123\" matches \"\\d\\d\\d\"\n",
        "\n",
        "\n",
        "\\D  \tMatches any non-digit character \t\"hello\" matches \"\\D\\D\\D\\D\\D\"\n",
        "\n",
        "\\w \t  Matches any word character (a-z, A-Z, 0-9, and _) \t\"hello_world\" \n",
        "matches \"\\w\\w\\w\\w\\w\\w\\w\\w\\w\"\n",
        "\n",
        "\\W \t  Matches any non-word character \t\"@#$%\" matches \"\\W\\W\\W\\W\"\n",
        "\n",
        "\\s \t  Matches any whitespace character (space, tab, newline, etc.) \t\"hello world\" matches \"\\w\\s\\w\\w\\w\\w\\w\"\n",
        "\n",
        "\\S \t  Matches any non-whitespace character \t\"hello_world\" matches \"\\S\\S\\S\\S\\S\\S\\S\\S\\S\"\n",
        "\n",
        "\\b \t  Matches the boundary between a word character and a non-word character \t\"cat\" matches \"\\bcat\\b\" in \"The cat sat on the mat\"\n",
        "\n",
        "\\B \t  Matches any position that is not a word boundary \t\"cat\" matches \"\\Bcat\\B\" in \"category\" but not in \"The cat sat on the mat\""
      ],
      "metadata": {
        "id": "BPsVXaGNsm4M"
      }
    },
    {
      "cell_type": "code",
      "source": [
        "pattern = r\"\\d\\d\\d\\d\\d\\d\\d\\d\\d\\d\"  # Matches any ten consecutive digits\n",
        "text = \"My Phone number is 1234567890\"\n",
        "match = re.search(pattern, text)\n",
        "\n",
        "if match:\n",
        "    print(\"Phone number found:\", match.group())\n",
        "else:\n",
        "    print(\"No match\")"
      ],
      "metadata": {
        "colab": {
          "base_uri": "https://localhost:8080/"
        },
        "id": "43Sz38GDtQio",
        "outputId": "5e80f9ef-033e-414e-9bc5-0fecbc4487b9"
      },
      "execution_count": null,
      "outputs": [
        {
          "output_type": "stream",
          "name": "stdout",
          "text": [
            "Phone number found: 1234567890\n"
          ]
        }
      ]
    },
    {
      "cell_type": "code",
      "source": [
        "a_buscar= \"mierda\"\n",
        "text=\" Todo lo que has dicho es falso y tu lo sabes muy bien, toda esa mierda y tu lo sabes\"\n",
        "\n",
        "resultado=re.search(a_buscar, text)\n",
        "\n",
        "if resultado:\n",
        "  print(\"Lo he encontrado!!\",resultado.group())\n",
        "  print('esta en la posicion:',text.find('mierda'))\n",
        "else:\n",
        "  print(\"No he encontrado nada de lo que me dices\")"
      ],
      "metadata": {
        "colab": {
          "base_uri": "https://localhost:8080/"
        },
        "id": "QOh6wvNT4wtA",
        "outputId": "bfbce7d3-7d04-4e80-b05d-4a41e52e50e4"
      },
      "execution_count": null,
      "outputs": [
        {
          "output_type": "stream",
          "name": "stdout",
          "text": [
            "Lo he encontrado!! mierda\n",
            "esta en la posicion: 65\n"
          ]
        }
      ]
    },
    {
      "cell_type": "code",
      "source": [
        "pattern = r\"\\W\"  # Matches any non-word character\n",
        "text = \"Hello, world!\"\n",
        "matches = re.findall(pattern, text)\n",
        "\n",
        "print(\"Matches:\", matches)"
      ],
      "metadata": {
        "colab": {
          "base_uri": "https://localhost:8080/"
        },
        "id": "gbC2AzAvto15",
        "outputId": "be7a92ab-9081-4734-e9df-74ab97c70046"
      },
      "execution_count": null,
      "outputs": [
        {
          "output_type": "stream",
          "name": "stdout",
          "text": [
            "Matches: [',', ' ', '!']\n"
          ]
        }
      ]
    },
    {
      "cell_type": "code",
      "source": [
        "#The findall() function finds all occurrences of a specified pattern within a string.\n",
        "\n",
        "s2 = \"Michael Jackson was a singer and known as the 'King of Pop'\"\n",
        "\n",
        "\n",
        "# Use the findall() function to find all occurrences of the \"as\" in the string\n",
        "result = re.findall(\"as\", s2)\n",
        "\n",
        "# Print out the list of matched words\n",
        "print(result)\n"
      ],
      "metadata": {
        "colab": {
          "base_uri": "https://localhost:8080/"
        },
        "id": "jGEncAoXtx18",
        "outputId": "336ac94c-6143-49d8-93c6-fc6321bdf516"
      },
      "execution_count": null,
      "outputs": [
        {
          "output_type": "stream",
          "name": "stdout",
          "text": [
            "['as', 'as']\n"
          ]
        }
      ]
    },
    {
      "cell_type": "code",
      "source": [
        "a_buscar= \"mierda\"\n",
        "text=\" Todo lo que has dicho es falso y tu lo sabes muy bien, toda esa mierda y tu lo sabes que la mierda no es buena\"\n",
        "\n",
        "resultado=re.search(a_buscar, text)\n",
        "\n",
        "if resultado:\n",
        "  print(\"Lo he encontrado!!\",resultado.group())\n",
        "  #print('esta en la posicion:',text.find('mierda'))\n",
        "  \n",
        "  result=re.findall(\"mierda\",text)\n",
        "  print(result)\n",
        "  numero_apariciones=len(result)#nos dice el tamaño del array donde se han guardado lo que ha encontrado\n",
        "  print('ha aparecido estas veces:',numero_apariciones)\n",
        "else:\n",
        "  print(\"No he encontrado nada de lo que me dices\")\n",
        "\n"
      ],
      "metadata": {
        "colab": {
          "base_uri": "https://localhost:8080/"
        },
        "id": "ImvCpMiM6hsy",
        "outputId": "b9367b8a-17a8-48dd-c664-c240050cf731"
      },
      "execution_count": null,
      "outputs": [
        {
          "output_type": "stream",
          "name": "stdout",
          "text": [
            "Lo he encontrado!! mierda\n",
            "['mierda', 'mierda']\n",
            "ha aparecido estas veces: 2\n"
          ]
        }
      ]
    },
    {
      "cell_type": "markdown",
      "source": [
        "A regular expression's **split()** function splits a string into an array of substrings based on a specified pattern."
      ],
      "metadata": {
        "id": "79qXZlRnuEy-"
      }
    },
    {
      "cell_type": "markdown",
      "source": [
        "The **sub function** of a regular expression in Python is used to replace all occurrences of a pattern in a string with a specified replacement."
      ],
      "metadata": {
        "id": "igWCkrt-ucYc"
      }
    },
    {
      "cell_type": "code",
      "source": [
        "# Define the regular expression pattern to search for\n",
        "pattern = r\"King of Pop\"\n",
        "\n",
        "# Define the replacement string\n",
        "replacement = \"legend\"\n",
        "\n",
        "# Use the sub function to replace the pattern with the replacement string\n",
        "new_string = re.sub(pattern, replacement, s2, flags=re.IGNORECASE)\n",
        "\n",
        "# The new_string contains the original string with the pattern replaced by the replacement string\n",
        "print(new_string) "
      ],
      "metadata": {
        "colab": {
          "base_uri": "https://localhost:8080/"
        },
        "id": "FqlGHwR_ue90",
        "outputId": "7ded0ade-1a9d-4c0d-90b3-bfd9f3116152"
      },
      "execution_count": null,
      "outputs": [
        {
          "output_type": "stream",
          "name": "stdout",
          "text": [
            "Michael Jackson was a singer and known as the 'legend'\n"
          ]
        }
      ]
    },
    {
      "cell_type": "code",
      "source": [
        "# Use the split function to split the string by the \"\\s\"\n",
        "split_array = re.split(\"\\s\", s2)\n",
        "\n",
        "# The split_array contains all the substrings, split by whitespace characters\n",
        "print(split_array) "
      ],
      "metadata": {
        "colab": {
          "base_uri": "https://localhost:8080/"
        },
        "id": "m2lfuyFwuKb8",
        "outputId": "abfcfc00-2dc0-4019-b2db-d0d94dc1bb6b"
      },
      "execution_count": null,
      "outputs": [
        {
          "output_type": "stream",
          "name": "stdout",
          "text": [
            "['Michael', 'Jackson', 'was', 'a', 'singer', 'and', 'known', 'as', 'the', \"'King\", 'of', \"Pop'\"]\n"
          ]
        }
      ]
    },
    {
      "cell_type": "markdown",
      "source": [
        "# **LIST AND TUPLES**"
      ],
      "metadata": {
        "id": "rXMYbNUg9cco"
      }
    },
    {
      "cell_type": "markdown",
      "source": [
        "**Tuples** are an ordered sequence and are written as comma-separated elemnts within parentsis.\n",
        "\n",
        "Ej: Ratings =( 10,9,6,7,5,2).\n",
        "\n",
        "Tuples can be of diferent types like String, Int , Float Ej: Tuple1=(\"Disco\", 10, 1.2)  \n",
        "\n",
        "Tuple1[0]: \"Disco\"\n",
        "Tuple [1]:10\n",
        "Tuple1[2]:1.2"
      ],
      "metadata": {
        "id": "3At2kz8p9xkG"
      }
    },
    {
      "cell_type": "markdown",
      "source": [
        "**List** are aldo ordered sequences and is represented with square brackets\n",
        "\n",
        "A list is a sequenced collection of different objects such as integers, strings, and even other lists as well. The address of each element within a list is called an index. An index is used to access and refer to items within a list.\n",
        "\n",
        "Ej: L=[\"Michael Jackson\", 10.1,1982] and are mutable we can change a item\n",
        "Ej: L[0]= \"Paco\" esto implica L es [\"Paco\", 10,1, 1982]"
      ],
      "metadata": {
        "id": "2GABbOwr_4AI"
      }
    },
    {
      "cell_type": "markdown",
      "source": [
        "**List Content**\n",
        "\n",
        "Lists can contain strings, floats, and integers. We can nest other lists, and we can also nest tuples and other data structures. The same indexing conventions apply for nesting:"
      ],
      "metadata": {
        "id": "RYfb3vIRM9XQ"
      }
    },
    {
      "cell_type": "code",
      "source": [
        "# Sample List\n",
        "\n",
        "[\"Michael Jackson\", 10.1, 1982, [1, 2], (\"A\", 1)]"
      ],
      "metadata": {
        "id": "WCpPYp8sNCKU"
      },
      "execution_count": null,
      "outputs": []
    },
    {
      "cell_type": "markdown",
      "source": [
        "**List operations**"
      ],
      "metadata": {
        "id": "XzZlD2tZNFnA"
      }
    },
    {
      "cell_type": "code",
      "source": [
        "# Sample List\n",
        "\n",
        "L = [\"Michael Jackson\", 10.1,1982,\"MJ\",1]\n",
        "L\n"
      ],
      "metadata": {
        "colab": {
          "base_uri": "https://localhost:8080/"
        },
        "id": "GO4dPkYyNI4l",
        "outputId": "6c872811-810e-4356-cb41-abf5144de523"
      },
      "execution_count": null,
      "outputs": [
        {
          "output_type": "execute_result",
          "data": {
            "text/plain": [
              "['Michael Jackson', 10.1, 1982, 'MJ', 1]"
            ]
          },
          "metadata": {},
          "execution_count": 50
        }
      ]
    },
    {
      "cell_type": "code",
      "source": [
        "# List slicing\n",
        "\n",
        "L[3:5]"
      ],
      "metadata": {
        "id": "aR88z0SNNPwu"
      },
      "execution_count": null,
      "outputs": []
    },
    {
      "cell_type": "markdown",
      "source": [
        "Each time we apply a method, the list changes. If we apply **extend** we add two new elements to the list. The list L is then modified by adding two new elements:"
      ],
      "metadata": {
        "id": "4X2iKCcgNkUs"
      }
    },
    {
      "cell_type": "code",
      "source": [
        "# Use extend to add elements to list\n",
        "\n",
        "L = [ \"Michael Jackson\", 10.2]\n",
        "L.extend(['pop', 10])\n",
        "L"
      ],
      "metadata": {
        "id": "LaiKSFj9NSbi"
      },
      "execution_count": null,
      "outputs": []
    },
    {
      "cell_type": "markdown",
      "source": [
        "f we **append** the list ['a','b'] we have one new element consisting of a nested list:"
      ],
      "metadata": {
        "id": "ZqOo6j4lNz53"
      }
    },
    {
      "cell_type": "code",
      "source": [
        "# Use append to add elements to list\n",
        "\n",
        "L = [ \"Michael Jackson\", 10.2]\n",
        "L.append(['pop', 10])\n",
        "L"
      ],
      "metadata": {
        "colab": {
          "base_uri": "https://localhost:8080/"
        },
        "id": "G3tOIfYxNWCf",
        "outputId": "e41fac1c-fe09-4b2f-91ee-288989ec8e74"
      },
      "execution_count": null,
      "outputs": [
        {
          "output_type": "execute_result",
          "data": {
            "text/plain": [
              "['Michael Jackson', 10.2, ['pop', 10]]"
            ]
          },
          "metadata": {},
          "execution_count": 51
        }
      ]
    },
    {
      "cell_type": "markdown",
      "source": [
        "As lists are mutable, we can change them. For example, we can change the first element as follows:"
      ],
      "metadata": {
        "id": "uR3h19QxN4Qu"
      }
    },
    {
      "cell_type": "code",
      "source": [
        "# Change the element based on the index\n",
        "\n",
        "A = [\"disco\", 10, 1.2]\n",
        "print('Before change:', A)\n",
        "A[0] = 'hard rock'\n",
        "print('After change:', A)"
      ],
      "metadata": {
        "colab": {
          "base_uri": "https://localhost:8080/"
        },
        "id": "Hwa19JoMN5Gr",
        "outputId": "5d227552-8504-4199-d1d3-d0434fe708ea"
      },
      "execution_count": null,
      "outputs": [
        {
          "output_type": "stream",
          "name": "stdout",
          "text": [
            "Before change: ['disco', 10, 1.2]\n",
            "After change: ['hard rock', 10, 1.2]\n"
          ]
        }
      ]
    },
    {
      "cell_type": "markdown",
      "source": [
        "We can also delete an element of a list using the **del** command:"
      ],
      "metadata": {
        "id": "cT6pwd3kOA1l"
      }
    },
    {
      "cell_type": "code",
      "source": [
        "# Delete the element based on the index\n",
        "\n",
        "print('Before change:', A)\n",
        "del(A[0])\n",
        "print('After change:', A)"
      ],
      "metadata": {
        "id": "ykNdvylxOEZ3"
      },
      "execution_count": null,
      "outputs": []
    },
    {
      "cell_type": "markdown",
      "source": [
        "We can convert a string to a list using **split**. For example, the **method split** translates every group of characters separated by a space into an element in a list:"
      ],
      "metadata": {
        "id": "5-SybBqtOJEW"
      }
    },
    {
      "cell_type": "code",
      "source": [
        "# Split the string, default is by space\n",
        "\n",
        "'hard rock'.split()"
      ],
      "metadata": {
        "colab": {
          "base_uri": "https://localhost:8080/"
        },
        "id": "gCCUN_PoOKCd",
        "outputId": "c33c603c-fe7a-4086-8329-e7fb6d7b6e80"
      },
      "execution_count": null,
      "outputs": [
        {
          "output_type": "execute_result",
          "data": {
            "text/plain": [
              "['hard', 'rock']"
            ]
          },
          "metadata": {},
          "execution_count": 53
        }
      ]
    },
    {
      "cell_type": "markdown",
      "source": [
        "We can use the split function to separate strings on a specific character which we call a delimiter. We pass the character we would like to split on into the argument, which in this case is a comma. The result is a list, and each element corresponds to a set of characters that have been separated by a comma:"
      ],
      "metadata": {
        "id": "nwi2k_bgOQGa"
      }
    },
    {
      "cell_type": "code",
      "source": [
        "# Split the string by comma\n",
        "\n",
        "'A,B,C,D'.split(',')"
      ],
      "metadata": {
        "colab": {
          "base_uri": "https://localhost:8080/"
        },
        "id": "B41fzcCeOSCY",
        "outputId": "b6ccd806-59da-4293-aade-6db8f3ae1922"
      },
      "execution_count": null,
      "outputs": [
        {
          "output_type": "execute_result",
          "data": {
            "text/plain": [
              "['A', 'B', 'C', 'D']"
            ]
          },
          "metadata": {},
          "execution_count": 54
        }
      ]
    },
    {
      "cell_type": "markdown",
      "source": [
        "**Copy and Clone List**"
      ],
      "metadata": {
        "id": "Te4ABGDOOcGI"
      }
    },
    {
      "cell_type": "code",
      "source": [
        "# Copy (copy by reference) the list A\n",
        "\n",
        "A = [\"hard rock\", 10, 1.2]\n",
        "B = A\n",
        "print('A:', A)\n",
        "print('B:', B)"
      ],
      "metadata": {
        "colab": {
          "base_uri": "https://localhost:8080/"
        },
        "id": "2CqspBaMOev7",
        "outputId": "da4472b7-bbf5-42b0-9fd7-441521c4fb36"
      },
      "execution_count": null,
      "outputs": [
        {
          "output_type": "stream",
          "name": "stdout",
          "text": [
            "A: ['hard rock', 10, 1.2]\n",
            "B: ['hard rock', 10, 1.2]\n"
          ]
        }
      ]
    },
    {
      "cell_type": "code",
      "source": [
        "# Examine the copy by reference\n",
        "\n",
        "print('B[0]:', B[0])\n",
        "A[0] = \"banana\"\n",
        "print('B[0]:', B[0])"
      ],
      "metadata": {
        "colab": {
          "base_uri": "https://localhost:8080/"
        },
        "id": "57_tYv9BOj6p",
        "outputId": "913b697c-d179-47bc-9840-140b9912c2d4"
      },
      "execution_count": null,
      "outputs": [
        {
          "output_type": "stream",
          "name": "stdout",
          "text": [
            "B[0]: hard rock\n",
            "B[0]: banana\n"
          ]
        }
      ]
    },
    {
      "cell_type": "markdown",
      "source": [
        "You can clone list A by using the following syntax:\n"
      ],
      "metadata": {
        "id": "vtmQnTcfOr2w"
      }
    },
    {
      "cell_type": "code",
      "source": [
        "# Clone (clone by value) the list A\n",
        "\n",
        "B = A[:]\n",
        "B"
      ],
      "metadata": {
        "id": "NXExetGFOqgV"
      },
      "execution_count": null,
      "outputs": []
    },
    {
      "cell_type": "markdown",
      "source": [
        "**Tuples in Python**\n",
        "\n",
        "In Python, there are different data types: string, integer, and float. These data types can all be contained in a tuple as follows:"
      ],
      "metadata": {
        "id": "V808uzGKQL5r"
      }
    },
    {
      "cell_type": "code",
      "source": [
        "# Create your first tuple\n",
        "\n",
        "tuple1 = (\"disco\",10,1.2 )\n",
        "tuple1\n",
        "\n",
        "# Print the type of the tuple you created\n",
        "\n",
        "type(tuple1)"
      ],
      "metadata": {
        "colab": {
          "base_uri": "https://localhost:8080/"
        },
        "id": "dy0MRk-QQcFR",
        "outputId": "e2dec3e7-13e4-4f99-ecd6-01c3230c7138"
      },
      "execution_count": null,
      "outputs": [
        {
          "output_type": "execute_result",
          "data": {
            "text/plain": [
              "tuple"
            ]
          },
          "metadata": {},
          "execution_count": 21
        }
      ]
    },
    {
      "cell_type": "code",
      "source": [
        "# Print the variable on each index\n",
        "\n",
        "print(tuple1[0])\n",
        "print(tuple1[1])\n",
        "print(tuple1[2])"
      ],
      "metadata": {
        "id": "rGSiCyRVQoe-",
        "colab": {
          "base_uri": "https://localhost:8080/"
        },
        "outputId": "a95f2aa8-1c5a-4589-a864-bad2346e9f40"
      },
      "execution_count": null,
      "outputs": [
        {
          "output_type": "stream",
          "name": "stdout",
          "text": [
            "disco\n",
            "10\n",
            "1.2\n"
          ]
        }
      ]
    },
    {
      "cell_type": "code",
      "source": [
        "# Print the type of value on each index\n",
        "\n",
        "print(type(tuple1[0]))\n",
        "print(type(tuple1[1]))\n",
        "print(type(tuple1[2]))"
      ],
      "metadata": {
        "id": "MZq9lnxXQpXd"
      },
      "execution_count": null,
      "outputs": []
    },
    {
      "cell_type": "code",
      "source": [
        "# Use negative index to get the value of the last element\n",
        "\n",
        "tuple1[-1]"
      ],
      "metadata": {
        "id": "KRSh2GKIQs7e"
      },
      "execution_count": null,
      "outputs": []
    },
    {
      "cell_type": "markdown",
      "source": [
        "**Concatenate Tuples**"
      ],
      "metadata": {
        "id": "qaFzR7MIQwZg"
      }
    },
    {
      "cell_type": "code",
      "source": [
        "# Concatenate two tuples\n",
        "\n",
        "tuple2 = tuple1 + (\"hard rock\", 10)\n",
        "tuple2"
      ],
      "metadata": {
        "colab": {
          "base_uri": "https://localhost:8080/"
        },
        "id": "qaJnV4yNQzvp",
        "outputId": "d086420b-5b58-424a-8b95-696d3e8a8cbe"
      },
      "execution_count": null,
      "outputs": [
        {
          "output_type": "execute_result",
          "data": {
            "text/plain": [
              "('disco', 10, 1.2, 'hard rock', 10)"
            ]
          },
          "metadata": {},
          "execution_count": 58
        }
      ]
    },
    {
      "cell_type": "markdown",
      "source": [
        "**Slicing Tuples**"
      ],
      "metadata": {
        "id": "oUbPTIBcQ7BU"
      }
    },
    {
      "cell_type": "code",
      "source": [
        "# Slice from index 0 to index 2\n",
        "\n",
        "tuple2[0:3]"
      ],
      "metadata": {
        "id": "k2GxerJHQ__W"
      },
      "execution_count": null,
      "outputs": []
    },
    {
      "cell_type": "code",
      "source": [
        "# Slice from index 3 to index 4\n",
        "\n",
        "tuple2[3:5]"
      ],
      "metadata": {
        "id": "ZMXaZ-AiRH7B"
      },
      "execution_count": null,
      "outputs": []
    },
    {
      "cell_type": "code",
      "source": [
        "# Get the length of tuple\n",
        "\n",
        "len(tuple2)"
      ],
      "metadata": {
        "id": "whdINl45RNBl"
      },
      "execution_count": null,
      "outputs": []
    },
    {
      "cell_type": "markdown",
      "source": [
        "**Sorting**"
      ],
      "metadata": {
        "id": "qiQtqqtYRTtY"
      }
    },
    {
      "cell_type": "code",
      "source": [
        "# A sample tuple\n",
        "\n",
        "Ratings = (0, 9, 6, 5, 10, 8, 9, 6, 2)"
      ],
      "metadata": {
        "id": "YZ9RmLlaRRFi"
      },
      "execution_count": null,
      "outputs": []
    },
    {
      "cell_type": "code",
      "source": [
        "# Sort the tuple\n",
        "\n",
        "RatingsSorted = sorted(Ratings)\n",
        "RatingsSorted"
      ],
      "metadata": {
        "colab": {
          "base_uri": "https://localhost:8080/"
        },
        "id": "ClRwU1MYRYhZ",
        "outputId": "f5ff4bb2-e201-41e4-e80e-47ea4f875ae1"
      },
      "execution_count": null,
      "outputs": [
        {
          "output_type": "execute_result",
          "data": {
            "text/plain": [
              "[0, 2, 5, 6, 6, 8, 9, 9, 10]"
            ]
          },
          "metadata": {},
          "execution_count": 60
        }
      ]
    },
    {
      "cell_type": "markdown",
      "source": [
        "**NEsted Tuple**"
      ],
      "metadata": {
        "id": "3FtCSz3MRdfb"
      }
    },
    {
      "cell_type": "code",
      "source": [
        "# Create a nest tuple\n",
        "\n",
        "NestedT =(1, 2, (\"pop\", \"rock\") ,(3,4),(\"disco\",(1,2)))"
      ],
      "metadata": {
        "id": "w63OfS_uRghe"
      },
      "execution_count": null,
      "outputs": []
    },
    {
      "cell_type": "markdown",
      "source": [
        "Each element in the tuple, including other tuples, can be obtained via an index as shown in the figure:"
      ],
      "metadata": {
        "id": "GC24JtBCRm-s"
      }
    },
    {
      "cell_type": "code",
      "source": [
        "# Print element on each index\n",
        "\n",
        "print(\"Element 0 of Tuple: \", NestedT[0])\n",
        "print(\"Element 1 of Tuple: \", NestedT[1])\n",
        "print(\"Element 2 of Tuple: \", NestedT[2])\n",
        "print(\"Element 3 of Tuple: \", NestedT[3])\n",
        "print(\"Element 4 of Tuple: \", NestedT[4])"
      ],
      "metadata": {
        "colab": {
          "base_uri": "https://localhost:8080/"
        },
        "id": "9NQelzTQRpaP",
        "outputId": "ba62669b-8e07-4367-ee37-1c0170aa741c"
      },
      "execution_count": null,
      "outputs": [
        {
          "output_type": "stream",
          "name": "stdout",
          "text": [
            "Element 0 of Tuple:  1\n",
            "Element 1 of Tuple:  2\n",
            "Element 2 of Tuple:  ('pop', 'rock')\n",
            "Element 3 of Tuple:  (3, 4)\n",
            "Element 4 of Tuple:  ('disco', (1, 2))\n"
          ]
        }
      ]
    },
    {
      "cell_type": "markdown",
      "source": [
        "We can use the second index to access other tuples as demonstrated in the figure:"
      ],
      "metadata": {
        "id": "WNLhtZtbR0ES"
      }
    },
    {
      "cell_type": "code",
      "source": [
        "# Print element on each index, including nest indexes\n",
        "\n",
        "print(\"Element 2, 0 of Tuple: \",   NestedT[2][0])\n",
        "print(\"Element 2, 1 of Tuple: \",   NestedT[2][1])\n",
        "print(\"Element 3, 0 of Tuple: \",   NestedT[3][0])\n",
        "print(\"Element 3, 1 of Tuple: \",   NestedT[3][1])\n",
        "print(\"Element 4, 0 of Tuple: \",   NestedT[4][0])\n",
        "print(\"Element 4, 1 of Tuple: \",   NestedT[4][1])"
      ],
      "metadata": {
        "colab": {
          "base_uri": "https://localhost:8080/"
        },
        "id": "MTL6PK60R1HA",
        "outputId": "2d602ba3-d9e8-4498-81b7-3be2c449319d"
      },
      "execution_count": null,
      "outputs": [
        {
          "output_type": "stream",
          "name": "stdout",
          "text": [
            "Element 2, 0 of Tuple:  pop\n",
            "Element 2, 1 of Tuple:  rock\n",
            "Element 3, 0 of Tuple:  3\n",
            "Element 3, 1 of Tuple:  4\n",
            "Element 4, 0 of Tuple:  disco\n",
            "Element 4, 1 of Tuple:  (1, 2)\n"
          ]
        }
      ]
    },
    {
      "cell_type": "markdown",
      "source": [
        "We can access strings in the second nested tuples using a third index:"
      ],
      "metadata": {
        "id": "RnDhjvT5SB4T"
      }
    },
    {
      "cell_type": "code",
      "source": [
        "# Print the first element in the second nested tuples\n",
        "\n",
        "NestedT[2][1][0]"
      ],
      "metadata": {
        "colab": {
          "base_uri": "https://localhost:8080/",
          "height": 35
        },
        "id": "qzLQ-xUHSD66",
        "outputId": "d73fad5d-8288-456a-f5fb-4049a3ab2864"
      },
      "execution_count": null,
      "outputs": [
        {
          "output_type": "execute_result",
          "data": {
            "text/plain": [
              "'r'"
            ],
            "application/vnd.google.colaboratory.intrinsic+json": {
              "type": "string"
            }
          },
          "metadata": {},
          "execution_count": 64
        }
      ]
    },
    {
      "cell_type": "markdown",
      "source": [
        "Find the first **index** of \"disco\":\n"
      ],
      "metadata": {
        "id": "FtrP6ya4SvtX"
      }
    },
    {
      "cell_type": "code",
      "source": [
        "genres_tuple = (\"pop\", \"rock\", \"soul\", \"hard rock\", \"soft rock\", \\\n",
        "                \"R&B\", \"progressive rock\", \"disco\") \n",
        "\n",
        "genres_tuple.index(\"disco\")"
      ],
      "metadata": {
        "colab": {
          "base_uri": "https://localhost:8080/"
        },
        "id": "95SS39aZSyRa",
        "outputId": "83dfbf44-19e8-499a-c3d1-8712de4fe9b7"
      },
      "execution_count": null,
      "outputs": [
        {
          "output_type": "execute_result",
          "data": {
            "text/plain": [
              "7"
            ]
          },
          "metadata": {},
          "execution_count": 70
        }
      ]
    },
    {
      "cell_type": "markdown",
      "source": [
        "# **DICTIONARIES**"
      ],
      "metadata": {
        "id": "cFgL7USGpWGP"
      }
    },
    {
      "cell_type": "markdown",
      "source": [
        "A dictionary consists of keys and values. It is helpful to compare a dictionary to a list. Instead of being indexed numerically like a list, dictionaries have keys. These keys are the keys that are used to access values within a dictionary. **Keys can only be strings, numbers, or tuples, but values can be any data type.**\n",
        "\n",
        "\n",
        "The best example of a dictionary can be accessing person's detais using the social security number.\n",
        "Here the social security number which is a unique number will be the key and the details of the people will be the values associated with it.\n"
      ],
      "metadata": {
        "id": "OSQgespbq4zH"
      }
    },
    {
      "cell_type": "code",
      "source": [
        "# Create the dictionary\n",
        "\n",
        "Dict = {\"key1\": 1, \"key2\": \"2\", \"key3\": [3, 3, 3], \"key4\": (4, 4, 4), ('key5'): 5, (0, 1): 6}\n",
        "Dict"
      ],
      "metadata": {
        "colab": {
          "base_uri": "https://localhost:8080/"
        },
        "id": "Wp-1oet-r-4V",
        "outputId": "d8e7f3fd-80c2-45de-deb6-8d27f29e0ec3"
      },
      "execution_count": null,
      "outputs": [
        {
          "output_type": "execute_result",
          "data": {
            "text/plain": [
              "{'key1': 1,\n",
              " 'key2': '2',\n",
              " 'key3': [3, 3, 3],\n",
              " 'key4': (4, 4, 4),\n",
              " 'key5': 5,\n",
              " (0, 1): 6}"
            ]
          },
          "metadata": {},
          "execution_count": 1
        }
      ]
    },
    {
      "cell_type": "code",
      "source": [],
      "metadata": {
        "id": "Q8TQPkN_tfBF"
      },
      "execution_count": null,
      "outputs": []
    },
    {
      "cell_type": "code",
      "source": [
        "#Access to the value by the key\n",
        "Dict[\"key1\"]"
      ],
      "metadata": {
        "colab": {
          "base_uri": "https://localhost:8080/"
        },
        "id": "mF3SHL5GsfXd",
        "outputId": "c4bf0f99-4ed9-4bb8-d880-5abae6cd3946"
      },
      "execution_count": null,
      "outputs": [
        {
          "output_type": "execute_result",
          "data": {
            "text/plain": [
              "1"
            ]
          },
          "metadata": {},
          "execution_count": 2
        }
      ]
    },
    {
      "cell_type": "markdown",
      "source": [
        "Each key is separated from its value by a colon **\":\"** Commas separate the items, and the whole dictionary is enclosed in curly braces. **An empty dictionary** without any items is written with just two curly braces, like this \"**{}**\"."
      ],
      "metadata": {
        "id": "MEd1dsIxsz4p"
      }
    },
    {
      "cell_type": "code",
      "source": [
        "# Create a sample dictionary\n",
        "\n",
        "release_year_dict = {\"Thriller\": \"1982\", \"Back in Black\": \"1980\", \\\n",
        "                    \"The Dark Side of the Moon\": \"1973\", \"The Bodyguard\": \"1992\", \\\n",
        "                    \"Bat Out of Hell\": \"1977\", \"Their Greatest Hits (1971-1975)\": \"1976\", \\\n",
        "                    \"Saturday Night Fever\": \"1977\", \"Rumours\": \"1977\"}\n",
        "release_year_dict"
      ],
      "metadata": {
        "colab": {
          "base_uri": "https://localhost:8080/"
        },
        "id": "cxtlF50ssuLZ",
        "outputId": "6856dc3b-f3ee-4bd0-f24a-8ba68ae59bb4"
      },
      "execution_count": null,
      "outputs": [
        {
          "output_type": "execute_result",
          "data": {
            "text/plain": [
              "{'Thriller': '1982',\n",
              " 'Back in Black': '1980',\n",
              " 'The Dark Side of the Moon': '1973',\n",
              " 'The Bodyguard': '1992',\n",
              " 'Bat Out of Hell': '1977',\n",
              " 'Their Greatest Hits (1971-1975)': '1976',\n",
              " 'Saturday Night Fever': '1977',\n",
              " 'Rumours': '1977'}"
            ]
          },
          "metadata": {},
          "execution_count": 3
        }
      ]
    },
    {
      "cell_type": "code",
      "source": [
        "# Get value by key\n",
        "\n",
        "release_year_dict['The Bodyguard'] "
      ],
      "metadata": {
        "colab": {
          "base_uri": "https://localhost:8080/",
          "height": 36
        },
        "id": "wlQkIfQFti9V",
        "outputId": "fcd1d653-6b0d-49c3-a35e-41978b981dcd"
      },
      "execution_count": null,
      "outputs": [
        {
          "output_type": "execute_result",
          "data": {
            "text/plain": [
              "'1992'"
            ],
            "application/vnd.google.colaboratory.intrinsic+json": {
              "type": "string"
            }
          },
          "metadata": {},
          "execution_count": 4
        }
      ]
    },
    {
      "cell_type": "markdown",
      "source": [
        "retrieve the keys of the dictionary using the **method keys():**"
      ],
      "metadata": {
        "id": "kYtpJe5Lt74F"
      }
    },
    {
      "cell_type": "code",
      "source": [
        "# Get all the keys in dictionary\n",
        "\n",
        "release_year_dict.keys() "
      ],
      "metadata": {
        "colab": {
          "base_uri": "https://localhost:8080/"
        },
        "id": "ncKkBFoOtwLW",
        "outputId": "1a3a79eb-e802-4c92-fa94-a31ae0b3a8a4"
      },
      "execution_count": null,
      "outputs": [
        {
          "output_type": "execute_result",
          "data": {
            "text/plain": [
              "dict_keys(['Thriller', 'Back in Black', 'The Dark Side of the Moon', 'The Bodyguard', 'Bat Out of Hell', 'Their Greatest Hits (1971-1975)', 'Saturday Night Fever', 'Rumours'])"
            ]
          },
          "metadata": {},
          "execution_count": 5
        }
      ]
    },
    {
      "cell_type": "markdown",
      "source": [
        "You can retrieve the values using the **method values():**\n"
      ],
      "metadata": {
        "id": "f5ByWo0ft30j"
      }
    },
    {
      "cell_type": "code",
      "source": [
        "# Get all the values in dictionary\n",
        "\n",
        "release_year_dict.values() "
      ],
      "metadata": {
        "id": "ywDszYa-t44f"
      },
      "execution_count": null,
      "outputs": []
    },
    {
      "cell_type": "markdown",
      "source": [
        "**We can add an entry:**"
      ],
      "metadata": {
        "id": "NPg49MK4uNee"
      }
    },
    {
      "cell_type": "code",
      "source": [
        "# Append value with key into dictionary\n",
        "\n",
        "release_year_dict['Graduation'] = '2007'\n",
        "release_year_dict"
      ],
      "metadata": {
        "colab": {
          "base_uri": "https://localhost:8080/"
        },
        "id": "3MElMlLruYmI",
        "outputId": "018f1138-8e28-40d3-ef35-7f0419c2ef6d"
      },
      "execution_count": null,
      "outputs": [
        {
          "output_type": "execute_result",
          "data": {
            "text/plain": [
              "{'Thriller': '1982',\n",
              " 'Back in Black': '1980',\n",
              " 'The Dark Side of the Moon': '1973',\n",
              " 'The Bodyguard': '1992',\n",
              " 'Bat Out of Hell': '1977',\n",
              " 'Their Greatest Hits (1971-1975)': '1976',\n",
              " 'Saturday Night Fever': '1977',\n",
              " 'Rumours': '1977',\n",
              " 'Graduation': '2007'}"
            ]
          },
          "metadata": {},
          "execution_count": 6
        }
      ]
    },
    {
      "cell_type": "markdown",
      "source": [
        "We can **verify if an element is in the dictionary**: Devuelve un boolean true or false. Con lo cual lo podemos usar en un if or cosas asi...\n"
      ],
      "metadata": {
        "id": "KKdj4Ii1ukZ9"
      }
    },
    {
      "cell_type": "code",
      "source": [
        "'The Bodyguard' in release_year_dict"
      ],
      "metadata": {
        "colab": {
          "base_uri": "https://localhost:8080/"
        },
        "id": "gLdxsrqpunbi",
        "outputId": "88c86b7d-7eb3-4275-ff93-c87cfa716161"
      },
      "execution_count": null,
      "outputs": [
        {
          "output_type": "execute_result",
          "data": {
            "text/plain": [
              "True"
            ]
          },
          "metadata": {},
          "execution_count": 7
        }
      ]
    },
    {
      "cell_type": "markdown",
      "source": [
        "**Delete** an entry"
      ],
      "metadata": {
        "id": "CWxALml4x94Q"
      }
    },
    {
      "cell_type": "code",
      "source": [
        "# Delete entries by key\n",
        "\n",
        "del(release_year_dict['Thriller'])\n",
        "del(release_year_dict['Graduation'])\n",
        "release_year_dict"
      ],
      "metadata": {
        "id": "H3F-pdLIyQA1"
      },
      "execution_count": null,
      "outputs": []
    },
    {
      "cell_type": "markdown",
      "source": [
        "# **SETS**  Conjuntos"
      ],
      "metadata": {
        "id": "AchGNKv-ydYe"
      }
    },
    {
      "cell_type": "markdown",
      "source": [
        "A set is a unique collection of objects in Python. **You can denote a set with a pair of curly brackets {}**. Python will automatically remove duplicate items:"
      ],
      "metadata": {
        "id": "iPOUpwUi1YpA"
      }
    },
    {
      "cell_type": "code",
      "source": [
        "# Create a set\n",
        "\n",
        "set1 = {\"pop\", \"rock\", \"soul\", \"hard rock\", \"rock\", \"R&B\", \"rock\", \"disco\"}\n",
        "set1"
      ],
      "metadata": {
        "colab": {
          "base_uri": "https://localhost:8080/"
        },
        "id": "ticzRIsg1hGa",
        "outputId": "60eac960-a490-45e2-ac42-f0f7f1987937"
      },
      "execution_count": null,
      "outputs": [
        {
          "output_type": "execute_result",
          "data": {
            "text/plain": [
              "{'R&B', 'disco', 'hard rock', 'pop', 'rock', 'soul'}"
            ]
          },
          "metadata": {},
          "execution_count": 8
        }
      ]
    },
    {
      "cell_type": "markdown",
      "source": [
        "You can also **create a set from a list** as follows:"
      ],
      "metadata": {
        "id": "NAIKU2aN1q2X"
      }
    },
    {
      "cell_type": "code",
      "source": [
        "\n",
        "album_list = [ \"Michael Jackson\", \"Thriller\", 1982, \"00:42:19\", \\\n",
        "              \"Pop, Rock, R&B\", 46.0, 65, \"30-Nov-82\", None, 10.0]\n",
        "album_set = set(album_list)             \n",
        "album_set"
      ],
      "metadata": {
        "colab": {
          "base_uri": "https://localhost:8080/"
        },
        "id": "GteyR3Wg1wkC",
        "outputId": "9108ddd1-f8df-4426-b0df-9dcbc508959a"
      },
      "execution_count": null,
      "outputs": [
        {
          "output_type": "execute_result",
          "data": {
            "text/plain": [
              "{'00:42:19',\n",
              " 10.0,\n",
              " 1982,\n",
              " '30-Nov-82',\n",
              " 46.0,\n",
              " 65,\n",
              " 'Michael Jackson',\n",
              " None,\n",
              " 'Pop, Rock, R&B',\n",
              " 'Thriller'}"
            ]
          },
          "metadata": {},
          "execution_count": 9
        }
      ]
    },
    {
      "cell_type": "markdown",
      "source": [
        "**Set operations**"
      ],
      "metadata": {
        "id": "LG8qCJ0D178T"
      }
    },
    {
      "cell_type": "code",
      "source": [
        "# Sample set\n",
        "\n",
        "A = set([\"Thriller\", \"Back in Black\", \"AC/DC\"])\n",
        "A"
      ],
      "metadata": {
        "colab": {
          "base_uri": "https://localhost:8080/"
        },
        "id": "69SNF1Y_2CPZ",
        "outputId": "82762a7f-84d9-4897-fd61-42bd4c7a1542"
      },
      "execution_count": null,
      "outputs": [
        {
          "output_type": "execute_result",
          "data": {
            "text/plain": [
              "{'AC/DC', 'Back in Black', 'Thriller'}"
            ]
          },
          "metadata": {},
          "execution_count": 10
        }
      ]
    },
    {
      "cell_type": "code",
      "source": [
        "# Add element to set\n",
        "\n",
        "A.add(\"NSYNC\")\n",
        "A"
      ],
      "metadata": {
        "colab": {
          "base_uri": "https://localhost:8080/"
        },
        "id": "Oq1IFsxS2Ekj",
        "outputId": "79cfefc9-b782-446b-8dd7-467416b756b4"
      },
      "execution_count": null,
      "outputs": [
        {
          "output_type": "execute_result",
          "data": {
            "text/plain": [
              "{'AC/DC', 'Back in Black', 'NSYNC', 'Thriller'}"
            ]
          },
          "metadata": {},
          "execution_count": 11
        }
      ]
    },
    {
      "cell_type": "markdown",
      "source": [
        " If we add the same element twice, nothing will happen as there can be no duplicates in a set:\n"
      ],
      "metadata": {
        "id": "lgA_EhsR2NY-"
      }
    },
    {
      "cell_type": "code",
      "source": [
        "# Try to add duplicate element to the set\n",
        "\n",
        "A.add(\"NSYNC\")\n",
        "A"
      ],
      "metadata": {
        "colab": {
          "base_uri": "https://localhost:8080/"
        },
        "id": "cD7Y4V1r2Pjj",
        "outputId": "48cdf4f6-272a-421c-9fdb-bf16dd235631"
      },
      "execution_count": null,
      "outputs": [
        {
          "output_type": "execute_result",
          "data": {
            "text/plain": [
              "{'AC/DC', 'Back in Black', 'NSYNC', 'Thriller'}"
            ]
          },
          "metadata": {},
          "execution_count": 12
        }
      ]
    },
    {
      "cell_type": "markdown",
      "source": [
        "We can verify if an element is in the set using the in command:"
      ],
      "metadata": {
        "id": "I80zU3Mm2UtI"
      }
    },
    {
      "cell_type": "code",
      "source": [
        "# Verify if the element is in the set\n",
        "\n",
        "\"AC/DC\" in A"
      ],
      "metadata": {
        "colab": {
          "base_uri": "https://localhost:8080/"
        },
        "id": "CsZB7IyP2Wxx",
        "outputId": "b41f814a-367e-44f0-8007-4099e8fb8da8"
      },
      "execution_count": null,
      "outputs": [
        {
          "output_type": "execute_result",
          "data": {
            "text/plain": [
              "True"
            ]
          },
          "metadata": {},
          "execution_count": 13
        }
      ]
    },
    {
      "cell_type": "markdown",
      "source": [
        "**Sets Logic Operations**\n",
        "\n",
        "Remember that with sets you can check the difference between sets, as well as the symmetric difference, intersection, and union:"
      ],
      "metadata": {
        "id": "42Bgpma92htb"
      }
    },
    {
      "cell_type": "code",
      "source": [
        "# Sample Sets\n",
        "\n",
        "album_set1 = set([\"Thriller\", 'AC/DC', 'Back in Black'])\n",
        "album_set2 = set([ \"AC/DC\", \"Back in Black\", \"The Dark Side of the Moon\"])"
      ],
      "metadata": {
        "id": "TLf7YN822qJS"
      },
      "execution_count": null,
      "outputs": []
    },
    {
      "cell_type": "code",
      "source": [
        "# Print two sets\n",
        "\n",
        "album_set1, album_set2"
      ],
      "metadata": {
        "colab": {
          "base_uri": "https://localhost:8080/"
        },
        "id": "Z1JqHuYi2wKX",
        "outputId": "21dbe132-69bc-4998-ed38-5bbc62fe4020"
      },
      "execution_count": null,
      "outputs": [
        {
          "output_type": "execute_result",
          "data": {
            "text/plain": [
              "({'AC/DC', 'Back in Black', 'Thriller'},\n",
              " {'AC/DC', 'Back in Black', 'The Dark Side of the Moon'})"
            ]
          },
          "metadata": {},
          "execution_count": 15
        }
      ]
    },
    {
      "cell_type": "markdown",
      "source": [
        "You can **find** the **intersect** of two sets as follow using &:\n"
      ],
      "metadata": {
        "id": "ZiWCRKLl249D"
      }
    },
    {
      "cell_type": "code",
      "source": [
        "# Find the intersections\n",
        "\n",
        "intersection = album_set1 & album_set2\n",
        "intersection"
      ],
      "metadata": {
        "colab": {
          "base_uri": "https://localhost:8080/"
        },
        "id": "szqV0v9R22sB",
        "outputId": "a473a147-1d9b-4415-9123-86787516d97e"
      },
      "execution_count": null,
      "outputs": [
        {
          "output_type": "execute_result",
          "data": {
            "text/plain": [
              "{'AC/DC', 'Back in Black'}"
            ]
          },
          "metadata": {},
          "execution_count": 16
        }
      ]
    },
    {
      "cell_type": "markdown",
      "source": [
        "You can **find** all the elements that are only contained in album_set1 using the difference method:"
      ],
      "metadata": {
        "id": "4aOIniur2_fr"
      }
    },
    {
      "cell_type": "code",
      "source": [
        "# Find the difference in set1 but not set2\n",
        "\n",
        "album_set1.difference(album_set2)  "
      ],
      "metadata": {
        "colab": {
          "base_uri": "https://localhost:8080/"
        },
        "id": "aET1K6Gr3BN8",
        "outputId": "63bf7c1b-73ea-468c-b357-6d7356006c36"
      },
      "execution_count": null,
      "outputs": [
        {
          "output_type": "execute_result",
          "data": {
            "text/plain": [
              "{'Thriller'}"
            ]
          },
          "metadata": {},
          "execution_count": 17
        }
      ]
    },
    {
      "cell_type": "markdown",
      "source": [
        "The elements in album_set2 but not in album_set1 is given by:\n"
      ],
      "metadata": {
        "id": "0a-Cf6Nz3VK3"
      }
    },
    {
      "cell_type": "code",
      "source": [
        "album_set2.difference(album_set1)  "
      ],
      "metadata": {
        "colab": {
          "base_uri": "https://localhost:8080/"
        },
        "id": "YSsI2aPX3WGH",
        "outputId": "2afddf0b-770d-4c9b-9687-e4c0bc7e2a36"
      },
      "execution_count": null,
      "outputs": [
        {
          "output_type": "execute_result",
          "data": {
            "text/plain": [
              "{'The Dark Side of the Moon'}"
            ]
          },
          "metadata": {},
          "execution_count": 18
        }
      ]
    },
    {
      "cell_type": "markdown",
      "source": [
        "You can also find the **intersection** of album_list1 and album_list2, using the intersection method:"
      ],
      "metadata": {
        "id": "bXxsJl9R3eCa"
      }
    },
    {
      "cell_type": "code",
      "source": [
        "# Use intersection method to find the intersection of album_list1 and album_list2\n",
        "\n",
        "album_set1.intersection(album_set2)   "
      ],
      "metadata": {
        "colab": {
          "base_uri": "https://localhost:8080/"
        },
        "id": "WM4_YN6N3f0G",
        "outputId": "dc971b5f-72d1-4f8f-b29f-de3a76a8c83e"
      },
      "execution_count": null,
      "outputs": [
        {
          "output_type": "execute_result",
          "data": {
            "text/plain": [
              "{'AC/DC', 'Back in Black'}"
            ]
          },
          "metadata": {},
          "execution_count": 19
        }
      ]
    },
    {
      "cell_type": "markdown",
      "source": [
        "The **union** is given by:"
      ],
      "metadata": {
        "id": "Cfx3Aw8j3mRT"
      }
    },
    {
      "cell_type": "code",
      "source": [
        "# Find the union of two sets\n",
        "\n",
        "album_set1.union(album_set2)"
      ],
      "metadata": {
        "colab": {
          "base_uri": "https://localhost:8080/"
        },
        "id": "fRQAM9Kl31ik",
        "outputId": "f21a4bc1-272e-4118-d75b-802c9d463e84"
      },
      "execution_count": null,
      "outputs": [
        {
          "output_type": "execute_result",
          "data": {
            "text/plain": [
              "{'AC/DC', 'Back in Black', 'The Dark Side of the Moon', 'Thriller'}"
            ]
          },
          "metadata": {},
          "execution_count": 20
        }
      ]
    },
    {
      "cell_type": "markdown",
      "source": [
        "And you can check if a **set** is a **superset** or **subset** of another set, respectively, like this:\n"
      ],
      "metadata": {
        "id": "o5I7szC937iO"
      }
    },
    {
      "cell_type": "code",
      "source": [
        "# Check if superset\n",
        "\n",
        "set(album_set1).issuperset(album_set2)   "
      ],
      "metadata": {
        "id": "NUo8NfNu38UG"
      },
      "execution_count": null,
      "outputs": []
    },
    {
      "cell_type": "code",
      "source": [
        "# Check if subset\n",
        "\n",
        "set(album_set2).issubset(album_set1)     "
      ],
      "metadata": {
        "id": "YwqWQE5g3-AE"
      },
      "execution_count": null,
      "outputs": []
    },
    {
      "cell_type": "code",
      "source": [
        "# Check if subset\n",
        "\n",
        "set({\"Back in Black\", \"AC/DC\"}).issubset(album_set1) "
      ],
      "metadata": {
        "id": "xxvaDZ3s4Bd0"
      },
      "execution_count": null,
      "outputs": []
    },
    {
      "cell_type": "markdown",
      "source": [
        "# **CONDITIONS IN PYTHON**"
      ],
      "metadata": {
        "id": "B0IbcdjRCaOB"
      }
    },
    {
      "cell_type": "markdown",
      "source": [
        "**Comparasion Operators**\n",
        "\n",
        "Comparison operations compare some value or operand and based on a condition, produce a Boolean. When comparing two values you can use these operators:\n",
        "\n",
        "    equal: ==\n",
        "    not equal: !=\n",
        "    greater than: >\n",
        "    less than: <\n",
        "    greater than or equal to: >=\n",
        "    less than or equal to: <=\n",
        "\n"
      ],
      "metadata": {
        "id": "GqKuM2PTClOK"
      }
    },
    {
      "cell_type": "markdown",
      "source": [],
      "metadata": {
        "id": "bXMp63XqCzP3"
      }
    },
    {
      "cell_type": "markdown",
      "source": [
        "**Branching**\n",
        "\n",
        "Branching allows us to run different statements for different inputs. It is helpful to think of an **if statement** as a locked room, if the statement is **True** we can enter the room and your program will run some predefined tasks, but if the statement is **False** the program will ignore the task."
      ],
      "metadata": {
        "id": "Kf8QVbEYCzUr"
      }
    },
    {
      "cell_type": "code",
      "source": [
        "# If statement example\n",
        "\n",
        "age = 19\n",
        "#age = 18\n",
        "\n",
        "#expression that can be true or false\n",
        "if age > 18:\n",
        "    \n",
        "    #within an indent, we have the expression that is run if the condition is true\n",
        "    print(\"you can enter\" )\n",
        "\n",
        "#The statements after the if statement will run regardless if the condition is true or false \n",
        "print(\"move on\")"
      ],
      "metadata": {
        "id": "mIaxMmjnC7KD"
      },
      "execution_count": null,
      "outputs": []
    },
    {
      "cell_type": "code",
      "source": [
        "# Else statement example\n",
        "\n",
        "age = 18\n",
        "# age = 19\n",
        "\n",
        "if age > 18:\n",
        "    print(\"you can enter\" )\n",
        "else:\n",
        "    print(\"go see Meat Loaf\" )\n",
        "    \n",
        "print(\"move on\")"
      ],
      "metadata": {
        "id": "_YG0wme9DBgs"
      },
      "execution_count": null,
      "outputs": []
    },
    {
      "cell_type": "code",
      "source": [
        "# Elif statment example\n",
        "\n",
        "age = 18\n",
        "\n",
        "if age > 18:\n",
        "    print(\"you can enter\" )\n",
        "elif age == 18:\n",
        "    print(\"go see Pink Floyd\")\n",
        "else:\n",
        "    print(\"go see Meat Loaf\" )\n",
        "    \n",
        "print(\"move on\")"
      ],
      "metadata": {
        "id": "U8WeRIBvDFcq"
      },
      "execution_count": null,
      "outputs": []
    },
    {
      "cell_type": "code",
      "source": [
        "# Condition statement example\n",
        "\n",
        "album_year = 1983\n",
        "#album_year = 1970\n",
        "\n",
        "if album_year > 1980:\n",
        "    print(\"Album year is greater than 1980\")\n",
        "else:\n",
        "    print(\"less than 1980\")\n",
        "\n",
        "print('do something..')"
      ],
      "metadata": {
        "id": "mKcNlycCDOsq"
      },
      "execution_count": null,
      "outputs": []
    },
    {
      "cell_type": "code",
      "source": [
        "# Condition statement example\n",
        "\n",
        "album_year = 1980\n",
        "\n",
        "if(album_year > 1979) and (album_year < 1990):\n",
        "    print (\"Album year was in between 1980 and 1989\")\n",
        "    \n",
        "print(\"\")\n",
        "print(\"Do Stuff..\")"
      ],
      "metadata": {
        "id": "ItdAkjC9DZDF"
      },
      "execution_count": null,
      "outputs": []
    },
    {
      "cell_type": "code",
      "source": [
        "# Condition statement example\n",
        "\n",
        "album_year = 1990\n",
        "\n",
        "if(album_year < 1980) or (album_year > 1989):\n",
        "    print (\"Album was not made in the 1980's\")\n",
        "else:\n",
        "    print(\"The Album was made in the 1980's \")"
      ],
      "metadata": {
        "id": "ihAHoEHYDeBQ"
      },
      "execution_count": null,
      "outputs": []
    },
    {
      "cell_type": "markdown",
      "source": [
        "# **LOOPS**"
      ],
      "metadata": {
        "id": "IGq_vtAu9wil"
      }
    },
    {
      "cell_type": "markdown",
      "source": [
        "**Range**\n",
        "\n",
        "Sometimes, you might want to repeat a given operation many times. Repeated executions like this are performed by loops. We will look at two types of loops, for loops and while loops.\n",
        "\n",
        "Before we discuss loops lets discuss the range object. It is helpful to think of the range object as an ordered list. For now, let's look at the simplest case. If we would like to generate an object that contains elements ordered from 0 to 2 we simply use the following command:\n"
      ],
      "metadata": {
        "id": "1znAiWkeBEys"
      }
    },
    {
      "cell_type": "code",
      "source": [
        "# Use the range\n",
        "\n",
        "range(3)"
      ],
      "metadata": {
        "colab": {
          "base_uri": "https://localhost:8080/"
        },
        "id": "eXuErDB9BOx6",
        "outputId": "1819dbb0-aa19-4ed8-a732-81d522475289"
      },
      "execution_count": null,
      "outputs": [
        {
          "output_type": "execute_result",
          "data": {
            "text/plain": [
              "range(0, 3)"
            ]
          },
          "metadata": {},
          "execution_count": 1
        }
      ]
    },
    {
      "cell_type": "markdown",
      "source": [
        "**What is for loop?**\n",
        "\n",
        "The for loop enables you to execute a code block multiple times. For example, you would use this if you would like to print out every element in a list.\n",
        "Let's try to use a for loop to print all the years presented in the list dates:\n",
        "\n",
        "This can be done as follows:\n"
      ],
      "metadata": {
        "id": "fnVu28pWBQPf"
      }
    },
    {
      "cell_type": "code",
      "source": [
        "# For loop example\n",
        "\n",
        "dates = [1982,1980,1973]\n",
        "N = len(dates)\n",
        "\n",
        "for i in range(N):\n",
        "    print(dates[i])     "
      ],
      "metadata": {
        "colab": {
          "base_uri": "https://localhost:8080/"
        },
        "id": "WBI05Xn6BV45",
        "outputId": "c3222598-d6e6-442b-8e82-888a2f562caf"
      },
      "execution_count": null,
      "outputs": [
        {
          "output_type": "stream",
          "name": "stdout",
          "text": [
            "1982\n",
            "1980\n",
            "1973\n"
          ]
        }
      ]
    },
    {
      "cell_type": "code",
      "source": [
        "# Example of for loop\n",
        "\n",
        "for i in range(0, 8):\n",
        "    print(i)"
      ],
      "metadata": {
        "colab": {
          "base_uri": "https://localhost:8080/"
        },
        "id": "es3_G0HDBsvW",
        "outputId": "54fdce40-905c-41ec-c9d7-602d046a4489"
      },
      "execution_count": null,
      "outputs": [
        {
          "output_type": "stream",
          "name": "stdout",
          "text": [
            "0\n",
            "1\n",
            "2\n",
            "3\n",
            "4\n",
            "5\n",
            "6\n",
            "7\n"
          ]
        }
      ]
    },
    {
      "cell_type": "markdown",
      "source": [
        "In Python we can **directly access** the elements in the list as follows: "
      ],
      "metadata": {
        "id": "C_ZmCNe7B6kh"
      }
    },
    {
      "cell_type": "code",
      "source": [
        "# Exmaple of for loop, loop through list\n",
        "\n",
        "for year in dates:  \n",
        "    print(year)  "
      ],
      "metadata": {
        "colab": {
          "base_uri": "https://localhost:8080/"
        },
        "id": "eFgzBolFBwlZ",
        "outputId": "44304037-1d60-4326-dc55-64e9571450c9"
      },
      "execution_count": null,
      "outputs": [
        {
          "output_type": "stream",
          "name": "stdout",
          "text": [
            "1982\n",
            "1980\n",
            "1973\n"
          ]
        }
      ]
    },
    {
      "cell_type": "markdown",
      "source": [
        "We can change the elements in a list:"
      ],
      "metadata": {
        "id": "yS-LDff2CKj6"
      }
    },
    {
      "cell_type": "code",
      "source": [
        "# Use for loop to change the elements in list\n",
        "\n",
        "squares = ['red', 'yellow', 'green', 'purple', 'blue']\n",
        "\n",
        "for i in range(0, 5):\n",
        "    print(\"Before square \", i, 'is',  squares[i])\n",
        "    squares[i] = 'white'\n",
        "    print(\"After square \", i, 'is',  squares[i])"
      ],
      "metadata": {
        "colab": {
          "base_uri": "https://localhost:8080/"
        },
        "id": "Xy-toyHZB8OW",
        "outputId": "6e3821a3-81f9-4003-f985-982397fab846"
      },
      "execution_count": null,
      "outputs": [
        {
          "output_type": "stream",
          "name": "stdout",
          "text": [
            "Before square  0 is red\n",
            "After square  0 is white\n",
            "Before square  1 is yellow\n",
            "After square  1 is white\n",
            "Before square  2 is green\n",
            "After square  2 is white\n",
            "Before square  3 is purple\n",
            "After square  3 is white\n",
            "Before square  4 is blue\n",
            "After square  4 is white\n"
          ]
        }
      ]
    },
    {
      "cell_type": "markdown",
      "source": [
        "We can access the index and the elements of a list as follows: "
      ],
      "metadata": {
        "id": "cUeLWpwsCxDw"
      }
    },
    {
      "cell_type": "code",
      "source": [
        "# Loop through the list and iterate on both index and element value\n",
        "\n",
        "squares=['red', 'yellow', 'green', 'purple', 'blue']\n",
        "\n",
        "for i, square in enumerate(squares):\n",
        "    print(i, square)"
      ],
      "metadata": {
        "colab": {
          "base_uri": "https://localhost:8080/"
        },
        "id": "XQQuPUI-Czg2",
        "outputId": "83cae203-e17e-4348-bfb1-75d6718b4a45"
      },
      "execution_count": null,
      "outputs": [
        {
          "output_type": "stream",
          "name": "stdout",
          "text": [
            "0 red\n",
            "1 yellow\n",
            "2 green\n",
            "3 purple\n",
            "4 blue\n"
          ]
        }
      ]
    },
    {
      "cell_type": "markdown",
      "source": [
        "**What is while loop?**\n",
        "\n",
        "As you can see, the for loop is used for a controlled flow of repetition. However, what if we don't know when we want to stop the loop? What if we want to keep executing a code block until a certain condition is met? The while loop exists as a tool for repeated execution based on a condition. The code block will keep being executed until the given logical condition returns a False boolean value.\n",
        "\n",
        "Let’s say we would like to iterate through list dates and stop at the year 1973, then print out the number of iterations. This can be done with the following block of code:\n"
      ],
      "metadata": {
        "id": "DKRtrNawDHkf"
      }
    },
    {
      "cell_type": "code",
      "source": [
        "# While Loop Example\n",
        "\n",
        "dates = [1982, 1980, 1973, 2000]\n",
        "\n",
        "i = 0\n",
        "year = dates[0]\n",
        "\n",
        "while(year != 1973):    \n",
        "    print(year)\n",
        "    i = i + 1\n",
        "    year = dates[i]\n",
        "    \n",
        "\n",
        "print(\"It took \", i ,\"repetitions to get out of loop.\")"
      ],
      "metadata": {
        "colab": {
          "base_uri": "https://localhost:8080/"
        },
        "id": "vyi6ino2DQXt",
        "outputId": "545fd97a-637d-4e26-e792-41164394d7c0"
      },
      "execution_count": null,
      "outputs": [
        {
          "output_type": "stream",
          "name": "stdout",
          "text": [
            "1982\n",
            "1980\n",
            "It took  2 repetitions to get out of loop.\n"
          ]
        }
      ]
    },
    {
      "cell_type": "markdown",
      "source": [
        "Write a while loop to copy the strings 'orange' of the list squares to the list new_squares. Stop and exit the loop if the value on the list is not 'orange':"
      ],
      "metadata": {
        "id": "Qt1xHxnEHWZA"
      }
    },
    {
      "cell_type": "code",
      "source": [
        "squares = ['orange', 'orange', 'purple', 'blue ', 'orange']\n",
        "new_squares = []\n",
        "i=0\n",
        "while squares[i] == 'orange':\n",
        "    new_squares.append(squares[i])\n",
        "    i=i+1\n",
        "print (new_squares)  "
      ],
      "metadata": {
        "id": "3Fs406XsHVOg"
      },
      "execution_count": null,
      "outputs": []
    },
    {
      "cell_type": "markdown",
      "source": [
        "Your little brother has just learned multiplication tables in school. Today he has learned tables of 6 and 7. Help him memorise both the tables by printing them using for loop."
      ],
      "metadata": {
        "id": "uWv9wgWjH_gt"
      }
    },
    {
      "cell_type": "code",
      "source": [
        "print(\"Multiplication table of 6:\")\n",
        "for i in range (10):\n",
        "    print(\"6*\",i,\"=\",6*i)\n",
        "print(\"Multiplication table of 7:\")\n",
        "for i in range (10):\n",
        "    print(\"7*\",i,\"=\",7*i)"
      ],
      "metadata": {
        "id": "zB6i41qOIADa"
      },
      "execution_count": null,
      "outputs": []
    },
    {
      "cell_type": "markdown",
      "source": [
        "Use while loop to iterate over the elements of the list. Use if-else statement inside the for loop to check the length of each element and if the length is 7, add the element to a new list."
      ],
      "metadata": {
        "id": "y41BVnDSKG6P"
      }
    },
    {
      "cell_type": "code",
      "source": [
        "Animals = [\"lion\", \"giraffe\", \"gorilla\", \"parrots\", \"crocodile\",\"deer\", \"swan\"]\n",
        "New = []\n",
        "i=0\n",
        "while i<len(Animals):\n",
        "    j=Animals[i]\n",
        "    if(len(j)==7):\n",
        "        New.append(j)\n",
        "    i=i+1\n",
        "print(New)\n",
        "    "
      ],
      "metadata": {
        "colab": {
          "base_uri": "https://localhost:8080/"
        },
        "id": "9iEBOvkQKDqe",
        "outputId": "d9be6d66-6b5c-4cce-c9d4-97c642da778e"
      },
      "execution_count": null,
      "outputs": [
        {
          "output_type": "stream",
          "name": "stdout",
          "text": [
            "['giraffe', 'gorilla', 'parrots']\n"
          ]
        }
      ]
    },
    {
      "cell_type": "markdown",
      "source": [
        "# **FUNCTIONS**"
      ],
      "metadata": {
        "id": "da95WuXVKv47"
      }
    },
    {
      "cell_type": "markdown",
      "source": [
        "What is a Function?\n",
        "\n",
        "You can define functions to provide the required functionality. Here are simple rules to define a function in Python:\n",
        "\n",
        "    Functions blocks begin def followed by the function name and parentheses ().\n",
        "    There are input parameters or arguments that should be placed within these parentheses.\n",
        "    You can also define parameters inside these parentheses.\n",
        "    There is a body within every function that starts with a colon (:) and is indented.\n",
        "    You can also place documentation before the body.\n",
        "    The statement return exits a function, optionally passing back a value.\n",
        "\n",
        "An example of a function that adds on to the parameter a prints and returns the output as b:\n"
      ],
      "metadata": {
        "id": "99OIM0J2qPK1"
      }
    },
    {
      "cell_type": "code",
      "source": [
        "def add(a):\n",
        "    \"\"\"\n",
        "    add 1 to a\n",
        "    \"\"\"\n",
        "    b = a + 1\n",
        "    print(a, \"if you add one\", b)\n",
        "    return(b)"
      ],
      "metadata": {
        "id": "JfZHGT2cqfWe"
      },
      "execution_count": null,
      "outputs": []
    },
    {
      "cell_type": "markdown",
      "source": [
        "We can obtain help on add function"
      ],
      "metadata": {
        "id": "SmOjE4aNqmoL"
      }
    },
    {
      "cell_type": "code",
      "source": [
        "help(add)"
      ],
      "metadata": {
        "colab": {
          "base_uri": "https://localhost:8080/"
        },
        "id": "TlfeQVsNqlio",
        "outputId": "5df33778-00e0-4bea-9aa0-e315010e9b91"
      },
      "execution_count": null,
      "outputs": [
        {
          "output_type": "stream",
          "name": "stdout",
          "text": [
            "Help on function add in module __main__:\n",
            "\n",
            "add(a)\n",
            "    add 1 to a\n",
            "\n"
          ]
        }
      ]
    },
    {
      "cell_type": "markdown",
      "source": [
        "we can call the function"
      ],
      "metadata": {
        "id": "7cNJzzK0qtyp"
      }
    },
    {
      "cell_type": "code",
      "source": [
        "add(1)"
      ],
      "metadata": {
        "colab": {
          "base_uri": "https://localhost:8080/"
        },
        "id": "th_c5FqVqxth",
        "outputId": "43bc2029-d518-49ec-d6cf-2c36d8396b6a"
      },
      "execution_count": null,
      "outputs": [
        {
          "output_type": "stream",
          "name": "stdout",
          "text": [
            "1 if you add one 2\n"
          ]
        },
        {
          "output_type": "execute_result",
          "data": {
            "text/plain": [
              "2"
            ]
          },
          "metadata": {},
          "execution_count": 3
        }
      ]
    },
    {
      "cell_type": "markdown",
      "source": [
        "We can create different functions. For example, we can create a function that multiplies two numbers. The numbers will be represented by the variables a and b:"
      ],
      "metadata": {
        "id": "vj0A-U4jrC3r"
      }
    },
    {
      "cell_type": "code",
      "source": [
        "# Define a function for multiple two numbers\n",
        "\n",
        "def Mult(a, b):\n",
        "    c = a * b\n",
        "    return(c)\n",
        "    print('This is not printed')\n",
        "    \n",
        "result = Mult(12,2)\n",
        "print(result)"
      ],
      "metadata": {
        "colab": {
          "base_uri": "https://localhost:8080/"
        },
        "id": "y-0H0Oczq_Ku",
        "outputId": "f75b3248-6407-435e-b9e9-8df26267bd07"
      },
      "execution_count": null,
      "outputs": [
        {
          "output_type": "stream",
          "name": "stdout",
          "text": [
            "24\n"
          ]
        }
      ]
    },
    {
      "cell_type": "code",
      "source": [
        "# Use mult() multiply two integers\n",
        "\n",
        "Mult(2, 3)"
      ],
      "metadata": {
        "colab": {
          "base_uri": "https://localhost:8080/"
        },
        "id": "51cH8UzJrFcJ",
        "outputId": "72d2e9bd-1f5d-42e2-b243-e0358d83956e"
      },
      "execution_count": null,
      "outputs": [
        {
          "output_type": "execute_result",
          "data": {
            "text/plain": [
              "6"
            ]
          },
          "metadata": {},
          "execution_count": 5
        }
      ]
    },
    {
      "cell_type": "code",
      "source": [
        "# Use mult() multiply two floats\n",
        "\n",
        "Mult(10.0, 3.14)"
      ],
      "metadata": {
        "colab": {
          "base_uri": "https://localhost:8080/"
        },
        "id": "ETbpH3pjrX5-",
        "outputId": "e7bcc6d5-9a36-445f-b6ad-cd3c3c59aed7"
      },
      "execution_count": null,
      "outputs": [
        {
          "output_type": "execute_result",
          "data": {
            "text/plain": [
              "31.400000000000002"
            ]
          },
          "metadata": {},
          "execution_count": 6
        }
      ]
    },
    {
      "cell_type": "code",
      "source": [
        "# Use mult() multiply two different type values together\n",
        "\n",
        "Mult(2, \"Michael Jackson \")"
      ],
      "metadata": {
        "colab": {
          "base_uri": "https://localhost:8080/",
          "height": 36
        },
        "id": "bhLXS3C0rZT3",
        "outputId": "79f25abb-fd63-49ef-e40e-3c56ff29bf25"
      },
      "execution_count": null,
      "outputs": [
        {
          "output_type": "execute_result",
          "data": {
            "text/plain": [
              "'Michael Jackson Michael Jackson '"
            ],
            "application/vnd.google.colaboratory.intrinsic+json": {
              "type": "string"
            }
          },
          "metadata": {},
          "execution_count": 7
        }
      ]
    },
    {
      "cell_type": "markdown",
      "source": [
        "# **EXCEPTION HANDLING**"
      ],
      "metadata": {
        "id": "fooAdXtZfOgY"
      }
    },
    {
      "cell_type": "markdown",
      "source": [
        "**Try...Except Statement**"
      ],
      "metadata": {
        "id": "yCKOv6-ufsOb"
      }
    },
    {
      "cell_type": "markdown",
      "source": [
        "A try except will allow you to execute code that might raise an exception and in the case of any exception or a specific one we can handle or catch the exception and execute specific code. This will allow us to continue the execution of our program even if there is an exception.\n",
        "\n",
        "Python tries to execute the code in the try block. In this case if there is any exception raised by the code in the try block, it will be caught and the code block in the except block will be executed. After that, the code that comes after the try except will be executed.\n"
      ],
      "metadata": {
        "id": "Kedc_gLJhkEO"
      }
    },
    {
      "cell_type": "code",
      "source": [
        "a = 1\n",
        "\n",
        "try:\n",
        "    b = int(input(\"Please enter a number to divide a\"))\n",
        "    a = a/b\n",
        "    print(\"Success a=\",a)\n",
        "except:\n",
        "    print(\"There was an error\")\n",
        "        \n"
      ],
      "metadata": {
        "colab": {
          "base_uri": "https://localhost:8080/"
        },
        "id": "g0LkArVjhtQ4",
        "outputId": "03122025-962b-477a-f078-d502c641f288"
      },
      "execution_count": null,
      "outputs": [
        {
          "output_type": "stream",
          "name": "stdout",
          "text": [
            "Please enter a number to divide a2\n",
            "Success a= 0.5\n"
          ]
        }
      ]
    },
    {
      "cell_type": "code",
      "source": [
        "# potential code before try catch\n",
        "\n",
        "try:\n",
        "    # code to try to execute\n",
        "except ZeroDivisionError:\n",
        "    # code to execute if there is a ZeroDivisionError\n",
        "except NameError:\n",
        "    # code to execute if there is a NameError\n",
        "except:\n",
        "    # code to execute if ther is any exception\n",
        "    \n",
        "# code that will execute if there is no exception or a one that we are handling"
      ],
      "metadata": {
        "id": "QuwQEsmgiBYI"
      },
      "execution_count": null,
      "outputs": []
    },
    {
      "cell_type": "code",
      "source": [
        "a = 1\n",
        "\n",
        "try:\n",
        "    b = int(input(\"Please enter a number to divide a\"))\n",
        "    a = a/b\n",
        "    print(\"Success a=\",a)\n",
        "except ZeroDivisionError:\n",
        "    print(\"The number you provided cant divide 1 because it is 0\")\n",
        "except ValueError:\n",
        "    print(\"You did not provide a number\")\n",
        "except:\n",
        "    print(\"Something went wrong\")\n",
        "        \n"
      ],
      "metadata": {
        "id": "O_1BQ4dxiEZ8"
      },
      "execution_count": null,
      "outputs": []
    },
    {
      "cell_type": "markdown",
      "source": [
        "**Try...Except...Else Statement**"
      ],
      "metadata": {
        "id": "NkHK_Qh1ggiT"
      }
    },
    {
      "cell_type": "markdown",
      "source": [
        "else allows one to check if there was no exception when executing the try block. This is useful when we want to execute something only if there were no errors."
      ],
      "metadata": {
        "id": "q7gT6HwfiO-q"
      }
    },
    {
      "cell_type": "code",
      "source": [
        "# potential code before try catch\n",
        "\n",
        "try:\n",
        "    # code to try to execute\n",
        "except ZeroDivisionError:\n",
        "    # code to execute if there is a ZeroDivisionError\n",
        "except NameError:\n",
        "    # code to execute if there is a NameError\n",
        "except:\n",
        "    # code to execute if ther is any exception\n",
        "else:\n",
        "    # code to execute if there is no exception\n",
        "    \n",
        "# code that will execute if there is no exception or a one that we are handling"
      ],
      "metadata": {
        "id": "GiHTzGJqiTe8"
      },
      "execution_count": null,
      "outputs": []
    },
    {
      "cell_type": "code",
      "source": [
        "a = 1\n",
        "\n",
        "try:\n",
        "    b = int(input(\"Please enter a number to divide a\"))\n",
        "    a = a/b\n",
        "except ZeroDivisionError:\n",
        "    print(\"The number you provided cant divide 1 because it is 0\")\n",
        "except ValueError:\n",
        "    print(\"You did not provide a number\")\n",
        "except:\n",
        "    print(\"Something went wrong\")\n",
        "else:\n",
        "    print(\"success a=\",a)"
      ],
      "metadata": {
        "id": "ecmJk-Qoilfc"
      },
      "execution_count": null,
      "outputs": []
    },
    {
      "cell_type": "markdown",
      "source": [
        "**Try...Except...Else..Finally Statement**"
      ],
      "metadata": {
        "id": "3yqobgYFgnUN"
      }
    },
    {
      "cell_type": "markdown",
      "source": [
        "finally allows us to always execute something even if there is an exception or not. This is usually used to signify the end of the try except."
      ],
      "metadata": {
        "id": "QNgdOS-diYkX"
      }
    },
    {
      "cell_type": "code",
      "source": [
        "# potential code before try catch\n",
        "\n",
        "try:\n",
        "    # code to try to execute\n",
        "except ZeroDivisionError:\n",
        "    # code to execute if there is a ZeroDivisionError\n",
        "except NameError:\n",
        "    # code to execute if there is a NameError\n",
        "except:\n",
        "    # code to execute if ther is any exception\n",
        "else:\n",
        "    # code to execute if there is no exception\n",
        "finally:\n",
        "    # code to execute at the end of the try except no matter what\n",
        "    \n",
        "# code that will execute if there is no exception or a one that we are handling"
      ],
      "metadata": {
        "id": "Pl8Rgrgdicmn"
      },
      "execution_count": null,
      "outputs": []
    },
    {
      "cell_type": "code",
      "source": [
        "a = 1\n",
        "\n",
        "try:\n",
        "    b = int(input(\"Please enter a number to divide a\"))\n",
        "    a = a/b\n",
        "except ZeroDivisionError:\n",
        "    print(\"The number you provided cant divide 1 because it is 0\")\n",
        "except ValueError:\n",
        "    print(\"You did not provide a number\")\n",
        "except:\n",
        "    print(\"Something went wrong\")\n",
        "else:\n",
        "    print(\"success a=\",a)\n",
        "finally:\n",
        "    print(\"Processing Complete\")"
      ],
      "metadata": {
        "id": "kOTsZXtOipOF"
      },
      "execution_count": null,
      "outputs": []
    },
    {
      "cell_type": "markdown",
      "source": [
        "# **OBJETCs**"
      ],
      "metadata": {
        "id": "V2qAkcvg7Xqw"
      }
    },
    {
      "cell_type": "code",
      "source": [
        "# Create a class Circle\n",
        "\n",
        "class Circle(object):\n",
        "    \n",
        "    # Constructor\n",
        "    def __init__(self, radius=3, color='blue'):\n",
        "        self.radius = radius\n",
        "        self.color = color \n",
        "    \n",
        "    # Method\n",
        "    def add_radius(self, r):\n",
        "        self.radius = self.radius + r\n",
        "        return(self.radius)\n",
        "    "
      ],
      "metadata": {
        "id": "wC4pGsU97mWA"
      },
      "execution_count": null,
      "outputs": []
    },
    {
      "cell_type": "markdown",
      "source": [
        "Creating a instance of a class Circle. Let’s create the object RedCircle of type Circle to do the following:\n"
      ],
      "metadata": {
        "id": "bdXl6moj7xJq"
      }
    },
    {
      "cell_type": "code",
      "source": [
        "RedCircle = Circle(10, 'red')"
      ],
      "metadata": {
        "id": "-AVK1EyB7yPp"
      },
      "execution_count": null,
      "outputs": []
    },
    {
      "cell_type": "markdown",
      "source": [
        "We can use the **dir** command to get a list of the object's methods. Many of them are default Python methods.\n"
      ],
      "metadata": {
        "id": "07IR1Rwt8Cbr"
      }
    },
    {
      "cell_type": "code",
      "source": [
        "dir(RedCircle)"
      ],
      "metadata": {
        "id": "kKMO5I7m8O6j"
      },
      "execution_count": null,
      "outputs": []
    },
    {
      "cell_type": "markdown",
      "source": [
        "**EJEMPLO MAS COMPLECO CLASES Y OBJETOS**\n",
        "\n",
        "\n",
        "1. String in lower case: You want to Pre-process the customer feedback by converting all the text to lowercase. This step helps standardize the text. Lower casing the text allows you to focus on the content rather than the specific letter casing.\n",
        "\n",
        "2. Frequency of all words in a given string: After converting the text to lowercase, you want to determine the frequency of each word in the customer feedback. This information will help you identify which words are used more frequently, indicating the key aspects or topics that customers are mentioning in their reviews. By analyzing the word frequencies, you can gain insights into the most common issues raised by customers.\n",
        "\n",
        "3. Frequency of a specific word: In addition to analyzing the overall word frequencies, you want to specifically track the frequency of a particular word that is relevant to your analysis. For example, you might be interested in monitoring how often the word \"reliable\" appears in the customer reviews to gauge customer sentiment about the product's reliability. By focusing on the frequency of a specific word, you can gain a deeper understanding of customer opinions or preferences related to that particular aspect.\n",
        "\n",
        "By performing these tasks on the customer feedback dataset, you can gain valuable insights into customer sentiment"
      ],
      "metadata": {
        "id": "KA2qMz9CFRBt"
      }
    },
    {
      "cell_type": "code",
      "source": [
        "class analysedText(object):\n",
        "    \n",
        "    def __init__ (self, text):\n",
        "        # remove punctuation\n",
        "        formattedText = text.replace('.','').replace('!','').replace('?','').replace(',','')\n",
        "        \n",
        "        # make text lowercase\n",
        "        formattedText = formattedText.lower()\n",
        "        \n",
        "        self.fmtText = formattedText\n",
        "        \n",
        "    def freqAll(self):        \n",
        "        # split text into words\n",
        "        wordList = self.fmtText.split(' ')\n",
        "        \n",
        "        # Create dictionary\n",
        "        freqMap = {}\n",
        "        for word in set(wordList): # use set to remove duplicates in list\n",
        "            freqMap[word] = wordList.count(word)\n",
        "        \n",
        "        return freqMap\n",
        "    \n",
        "    def freqOf(self,word):\n",
        "        # get frequency map\n",
        "        freqDict = self.freqAll()\n",
        "        \n",
        "        if word in freqDict:\n",
        "            return freqDict[word]\n",
        "        else:\n",
        "            return 0\n",
        "    "
      ],
      "metadata": {
        "id": "j_q2uVoIFTyF"
      },
      "execution_count": null,
      "outputs": []
    },
    {
      "cell_type": "markdown",
      "source": [],
      "metadata": {
        "id": "0H-ZNKTQFnk_"
      }
    },
    {
      "cell_type": "code",
      "source": [
        "Click here for the solution\n",
        "\n",
        "analyzed = analysedText(givenstring)\n",
        "\n"
      ],
      "metadata": {
        "id": "x9QMsYwRFzgG"
      },
      "execution_count": null,
      "outputs": []
    },
    {
      "cell_type": "code",
      "source": [
        "print(\"Formatted Text:\", analyzed.fmtText)"
      ],
      "metadata": {
        "id": "ZuhS0yAHF2Bf"
      },
      "execution_count": null,
      "outputs": []
    },
    {
      "cell_type": "code",
      "source": [
        "freqMap = analyzed.freqAll()\n",
        "print(freqMap)"
      ],
      "metadata": {
        "id": "A12C2jwWF8UT"
      },
      "execution_count": null,
      "outputs": []
    }
  ]
}